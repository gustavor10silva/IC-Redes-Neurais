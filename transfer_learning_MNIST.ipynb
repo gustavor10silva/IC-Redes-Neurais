{
  "nbformat": 4,
  "nbformat_minor": 0,
  "metadata": {
    "colab": {
      "name": "transfer_learning_MNIST.ipynb",
      "provenance": [],
      "authorship_tag": "ABX9TyOV13GGer+uWuKSh5lLSipu",
      "include_colab_link": true
    },
    "kernelspec": {
      "name": "python3",
      "display_name": "Python 3"
    },
    "language_info": {
      "name": "python"
    }
  },
  "cells": [
    {
      "cell_type": "markdown",
      "metadata": {
        "id": "view-in-github",
        "colab_type": "text"
      },
      "source": [
        "<a href=\"https://colab.research.google.com/github/gustavor10silva/IC-Redes-Neurais-Artificiais/blob/main/transfer_learning_MNIST.ipynb\" target=\"_parent\"><img src=\"https://colab.research.google.com/assets/colab-badge.svg\" alt=\"Open In Colab\"/></a>"
      ]
    },
    {
      "cell_type": "markdown",
      "metadata": {
        "id": "BQZJwGDCMWGZ"
      },
      "source": [
        "# Importando as bibliotecas a serem usadas"
      ]
    },
    {
      "cell_type": "code",
      "metadata": {
        "id": "IicB9jTmhgvr"
      },
      "source": [
        "import tensorflow as tf\n",
        "from tensorflow import keras\n",
        "import pandas as pd\n",
        "import matplotlib.pyplot as plt\n",
        "import numpy as np\n",
        "from sklearn.model_selection import train_test_split\n",
        "from functools import partial\n",
        "%matplotlib inline"
      ],
      "execution_count": 1,
      "outputs": []
    },
    {
      "cell_type": "markdown",
      "metadata": {
        "id": "TIQ8jUbxMcBu"
      },
      "source": [
        "# Baixando o dataset MNIST e estruturando os dados de treino, validação e teste"
      ]
    },
    {
      "cell_type": "code",
      "metadata": {
        "colab": {
          "base_uri": "https://localhost:8080/"
        },
        "id": "MYWfn87qhrma",
        "outputId": "f9a67c6d-4ad3-46fc-8568-e380e4d5211f"
      },
      "source": [
        "# baixando os dados do dataset MNIST\n",
        "(X_train_full, y_train_full), (X_test, y_test) = keras.datasets.mnist.load_data(path=\"mnist.npz\")"
      ],
      "execution_count": 2,
      "outputs": [
        {
          "output_type": "stream",
          "text": [
            "Downloading data from https://storage.googleapis.com/tensorflow/tf-keras-datasets/mnist.npz\n",
            "11493376/11490434 [==============================] - 0s 0us/step\n"
          ],
          "name": "stdout"
        }
      ]
    },
    {
      "cell_type": "code",
      "metadata": {
        "id": "i7aAsE5ehv_B"
      },
      "source": [
        "# dividindo dados de treino\n",
        "X1 = X_train_full[y_train_full <= 4]\n",
        "y1 = y_train_full[y_train_full <= 4]\n",
        "X2 = X_train_full[y_train_full > 4]\n",
        "y2 = y_train_full[y_train_full > 4]\n",
        "\n",
        "# dividindo dados de teste\n",
        "X1_test = X_test[y_test <= 4]\n",
        "y1_test = y_test[y_test <= 4]\n",
        "X2_test = X_test[y_test > 4]\n",
        "y2_test = y_test[y_test > 4]"
      ],
      "execution_count": 16,
      "outputs": []
    },
    {
      "cell_type": "code",
      "metadata": {
        "id": "YkhwlwSFjENj"
      },
      "source": [
        "# escalando e dividindo o treino entre treino e validação (0 a 4)\n",
        "X1_valid, X1_train = X1[:25000]/255.0, X1[25000:]/255.0\n",
        "y1_valid, y1_train = y1[:25000], y1[25000:]\n",
        "X1_test_scaled = X1_test/255.0\n",
        "\n",
        "# escalando e dividindo o treino entre treino e validação (5 a 9)\n",
        "X2_valid, X2_train = X2[:25000]/255.0, X2[25000:]/255.0\n",
        "y2_valid, y2_train = y2[:25000], y2[25000:]\n",
        "X2_test_scaled = X2_test/255.0"
      ],
      "execution_count": 17,
      "outputs": []
    },
    {
      "cell_type": "markdown",
      "metadata": {
        "id": "pu2E3O3HFFAp"
      },
      "source": [
        "# Separando apenas 100 imagens por dígito (de 5 a 9) para o treinamento, totalizando 500 imagens"
      ]
    },
    {
      "cell_type": "code",
      "metadata": {
        "id": "_csicBrUGrGU"
      },
      "source": [
        "# separando 100 imagens de cada dígito\n",
        "X_digito5 = X2_train[y2_train == 5][0:100]\n",
        "X_digito6 = X2_train[y2_train == 6][0:100]\n",
        "X_digito7 = X2_train[y2_train == 7][0:100]\n",
        "X_digito8 = X2_train[y2_train == 8][0:100]\n",
        "X_digito9 = X2_train[y2_train == 9][0:100]\n",
        "\n",
        "# separando 100 rótulos de cada dígito\n",
        "y_digito5 = [5]*100\n",
        "y_digito6 = [6]*100\n",
        "y_digito7 = [7]*100\n",
        "y_digito8 = [8]*100\n",
        "y_digito9 = [9]*100"
      ],
      "execution_count": 151,
      "outputs": []
    },
    {
      "cell_type": "code",
      "metadata": {
        "colab": {
          "base_uri": "https://localhost:8080/"
        },
        "id": "D5g7jJWyKA1H",
        "outputId": "b45041d9-95ba-4753-de20-c643d08a5fc5"
      },
      "source": [
        "# concatenando os vetores de imagem\n",
        "X_train_full_small = np.concatenate([X_digito5, X_digito6, X_digito7, X_digito8, X_digito9])\n",
        "len(X_train_full_small)"
      ],
      "execution_count": 163,
      "outputs": [
        {
          "output_type": "execute_result",
          "data": {
            "text/plain": [
              "500"
            ]
          },
          "metadata": {
            "tags": []
          },
          "execution_count": 163
        }
      ]
    },
    {
      "cell_type": "code",
      "metadata": {
        "colab": {
          "base_uri": "https://localhost:8080/"
        },
        "id": "bHLjvnsgQdeh",
        "outputId": "91ea3901-c907-4a25-abe4-59ae88bcdce7"
      },
      "source": [
        "# concatenando os vetores de rótulos\n",
        "y_train_full_small = np.concatenate([y_digito5, y_digito6, y_digito7, y_digito8, y_digito9])\n",
        "len(y_train_full_small)"
      ],
      "execution_count": 185,
      "outputs": [
        {
          "output_type": "execute_result",
          "data": {
            "text/plain": [
              "500"
            ]
          },
          "metadata": {
            "tags": []
          },
          "execution_count": 185
        }
      ]
    },
    {
      "cell_type": "code",
      "metadata": {
        "id": "JjAXexSbFEpr"
      },
      "source": [
        "# dividindo os dados entre treino e validação com o train_test_split\n",
        "X_train_small, X_valid_small, y_train_small, y_valid_small = train_test_split(X_train_full_small, y_train_full_small, test_size=0.30, random_state=42)"
      ],
      "execution_count": 188,
      "outputs": []
    },
    {
      "cell_type": "code",
      "metadata": {
        "colab": {
          "base_uri": "https://localhost:8080/"
        },
        "id": "7pzmwBLeTX4m",
        "outputId": "efb1bd98-9d13-4239-dc89-0c6ce8c42ce5"
      },
      "source": [
        "len(y_train_small), len(y_valid_small)"
      ],
      "execution_count": 189,
      "outputs": [
        {
          "output_type": "execute_result",
          "data": {
            "text/plain": [
              "(350, 150)"
            ]
          },
          "metadata": {
            "tags": []
          },
          "execution_count": 189
        }
      ]
    },
    {
      "cell_type": "code",
      "metadata": {
        "colab": {
          "base_uri": "https://localhost:8080/",
          "height": 815
        },
        "id": "cboCD7ltVaOO",
        "outputId": "ffc86324-f998-46f2-854b-6b9645b22a8d"
      },
      "source": [
        "# verificando se os rótulos do treino correspondem às imagens do treino\n",
        "for i in range(3):\n",
        "  fig = plt.figure\n",
        "  plt.imshow(X_train_small[i], cmap='gray')\n",
        "  print(y_train_small[i])\n",
        "  plt.show()"
      ],
      "execution_count": 190,
      "outputs": [
        {
          "output_type": "stream",
          "text": [
            "5\n"
          ],
          "name": "stdout"
        },
        {
          "output_type": "display_data",
          "data": {
            "image/png": "[encoded data removed]",
            "text/plain": [
              "<Figure size 432x288 with 1 Axes>"
            ]
          },
          "metadata": {
            "tags": [],
            "needs_background": "light"
          }
        },
        {
          "output_type": "stream",
          "text": [
            "6\n"
          ],
          "name": "stdout"
        },
        {
          "output_type": "display_data",
          "data": {
            "image/png": "[encoded data removed]",
            "text/plain": [
              "<Figure size 432x288 with 1 Axes>"
            ]
          },
          "metadata": {
            "tags": [],
            "needs_background": "light"
          }
        },
        {
          "output_type": "stream",
          "text": [
            "5\n"
          ],
          "name": "stdout"
        },
        {
          "output_type": "display_data",
          "data": {
            "image/png": "[encoded data removed]",
            "text/plain": [
              "<Figure size 432x288 with 1 Axes>"
            ]
          },
          "metadata": {
            "tags": [],
            "needs_background": "light"
          }
        }
      ]
    },
    {
      "cell_type": "code",
      "metadata": {
        "colab": {
          "base_uri": "https://localhost:8080/",
          "height": 815
        },
        "id": "25wfGvCSW3Op",
        "outputId": "e707e757-3b70-43f1-f29d-b816f5581629"
      },
      "source": [
        "# verificando se os rótulos da validação correspondem às imagens da validação\n",
        "for i in range(3):\n",
        "  fig = plt.figure\n",
        "  plt.imshow(X_valid_small[i], cmap='gray')\n",
        "  print(y_valid_small[i])\n",
        "  plt.show()"
      ],
      "execution_count": 191,
      "outputs": [
        {
          "output_type": "stream",
          "text": [
            "8\n"
          ],
          "name": "stdout"
        },
        {
          "output_type": "display_data",
          "data": {
            "image/png": "[encoded data removed]",
            "text/plain": [
              "<Figure size 432x288 with 1 Axes>"
            ]
          },
          "metadata": {
            "tags": [],
            "needs_background": "light"
          }
        },
        {
          "output_type": "stream",
          "text": [
            "5\n"
          ],
          "name": "stdout"
        },
        {
          "output_type": "display_data",
          "data": {
            "image/png": "[encoded data removed]",
            "text/plain": [
              "<Figure size 432x288 with 1 Axes>"
            ]
          },
          "metadata": {
            "tags": [],
            "needs_background": "light"
          }
        },
        {
          "output_type": "stream",
          "text": [
            "8\n"
          ],
          "name": "stdout"
        },
        {
          "output_type": "display_data",
          "data": {
            "image/png": "[encoded data removed]",
            "text/plain": [
              "<Figure size 432x288 with 1 Axes>"
            ]
          },
          "metadata": {
            "tags": [],
            "needs_background": "light"
          }
        }
      ]
    },
    {
      "cell_type": "markdown",
      "metadata": {
        "id": "IoGGD9A_akWH"
      },
      "source": [
        "# Treinando e avaliando um modelo usando somente as 500 imagens disponíveis"
      ]
    },
    {
      "cell_type": "code",
      "metadata": {
        "id": "pH40yMfbak0_"
      },
      "source": [
        "# \"hidden\" será o nome da camada densa, que estamos definindo com a função de ativação \"elu\" e o inicializador \"he_normal\"\n",
        "hidden = partial(keras.layers.Dense, activation=\"elu\", kernel_initializer=\"he_normal\")\n",
        "\n",
        "# o modelo será sequencial, com 5 camadas escondidas e cada uma delas com 100 neurônios\n",
        "modelo = keras.models.Sequential([\n",
        " keras.layers.Flatten(input_shape=[28, 28]), # o formato de entrada é 28x28 porque as imagens de entrada possuem 28 pixels de largura e de altura\n",
        " hidden(100),\n",
        " hidden(100),\n",
        " hidden(100),\n",
        " hidden(100),\n",
        " hidden(100),\n",
        " hidden(5, activation=\"softmax\") # a camada de saída, com a função de ativação softmax, possui 5 neurônios porque existem 5 rótulos possíveis na classificação: os dígitos de 5 a 9\n",
        "])\n",
        "optimizer = keras.optimizers.Adam(learning_rate=0.003, beta_1=0.9, beta_2=0.999) # o otimizador a ser usado é o Adam\n",
        "modelo.compile(loss=\"sparse_categorical_crossentropy\", optimizer=optimizer, metrics=[\"accuracy\"]) # compilando o modelo com loss=\"sparse_categorical_crossentropy\" e a métrica de acurácia"
      ],
      "execution_count": 234,
      "outputs": []
    },
    {
      "cell_type": "code",
      "metadata": {
        "id": "QKoAcW6Ualg4"
      },
      "source": [
        "# vamos treinar o modelo. Note que permitimos 1000 épocas de treino usando o callback EarlyStopping com paciência 10\n",
        "# isso significa que se o treino tiver 10 épocas sem melhoria no loss da validação, o treinamento será interrompido\n",
        "history_modelo = modelo.fit(X_train_small, y_train_small - 5, epochs=1000, validation_data=(X_valid_small, y_valid_small - 5), callbacks=[keras.callbacks.EarlyStopping(patience=10)])"
      ],
      "execution_count": null,
      "outputs": []
    },
    {
      "cell_type": "code",
      "metadata": {
        "colab": {
          "base_uri": "https://localhost:8080/",
          "height": 324
        },
        "id": "BgcUFJL0alLT",
        "outputId": "400daf0d-dca9-4e07-d196-3c439a116eae"
      },
      "source": [
        "# vamos plotar as informações de loss e acurácia do treinamento\n",
        "pd.DataFrame(history_modelo.history).plot(figsize=(8, 5))\n",
        "plt.grid(True)\n",
        "plt.gca().set_ylim(0, 1.2) # o alcance vertical será de 0 a 1.2\n",
        "plt.show()"
      ],
      "execution_count": 236,
      "outputs": [
        {
          "output_type": "display_data",
          "data": {
            "image/png": "[encoded data removed]",
            "text/plain": [
              "<Figure size 576x360 with 1 Axes>"
            ]
          },
          "metadata": {
            "tags": [],
            "needs_background": "light"
          }
        }
      ]
    },
    {
      "cell_type": "code",
      "metadata": {
        "colab": {
          "base_uri": "https://localhost:8080/"
        },
        "id": "d8QE43Hhc1ci",
        "outputId": "b02052d7-eef4-4e60-d394-a7b5f3615f9b"
      },
      "source": [
        "# agora, avaliando o modelo no conjunto de teste, obtemos loss=0.4124276041984558 e acurácia=0.8998148441314697\n",
        "modelo.evaluate(X2_test_scaled, y2_test - 5)"
      ],
      "execution_count": 237,
      "outputs": [
        {
          "output_type": "stream",
          "text": [
            "152/152 [==============================] - 0s 2ms/step - loss: 0.4124 - accuracy: 0.8998\n"
          ],
          "name": "stdout"
        },
        {
          "output_type": "execute_result",
          "data": {
            "text/plain": [
              "[0.4124276041984558, 0.8998148441314697]"
            ]
          },
          "metadata": {
            "tags": []
          },
          "execution_count": 237
        }
      ]
    },
    {
      "cell_type": "markdown",
      "metadata": {
        "id": "SpoDPuJFjxnQ"
      },
      "source": [
        "# Agora, vamos treinar uma rede nos dígitos de 0 a 4, porque temos muitos dados rotulados dos dígitos de 0 a 4. Depois, vamos usar partes dessa rede para construir uma nova rede, que classificará os dígitos de 5 a 9"
      ]
    },
    {
      "cell_type": "code",
      "metadata": {
        "id": "x-CduFMrhyRw"
      },
      "source": [
        "# criando o modelo \"model8\"\n",
        "hidden = partial(keras.layers.Dense, activation=\"elu\", kernel_initializer=\"he_normal\")\n",
        "\n",
        "model8 = keras.models.Sequential([\n",
        " keras.layers.Flatten(input_shape=[28, 28]),\n",
        " hidden(100),\n",
        " hidden(100),\n",
        " hidden(100),\n",
        " hidden(100),\n",
        " hidden(100),\n",
        " hidden(5, activation=\"softmax\")\n",
        "])\n",
        "optimizer = keras.optimizers.Adam(learning_rate=0.003, beta_1=0.9, beta_2=0.999)\n",
        "model8.compile(loss=\"sparse_categorical_crossentropy\", optimizer=optimizer, metrics=[\"accuracy\"])"
      ],
      "execution_count": 54,
      "outputs": []
    },
    {
      "cell_type": "code",
      "metadata": {
        "id": "lAF0zszKiyYg"
      },
      "source": [
        "# treinando o model8 nos dígitos de 0 a 4\n",
        "history8 = model8.fit(X1_train, y1_train, epochs=200, validation_data=(X1_valid, y1_valid), callbacks=[keras.callbacks.EarlyStopping(patience=10)])"
      ],
      "execution_count": null,
      "outputs": []
    },
    {
      "cell_type": "code",
      "metadata": {
        "colab": {
          "base_uri": "https://localhost:8080/",
          "height": 324
        },
        "id": "UZ1pcBiRi5uW",
        "outputId": "421f658f-7bd4-46c2-b071-39b687c53be4"
      },
      "source": [
        "pd.DataFrame(history8.history).plot(figsize=(8, 5))\n",
        "plt.grid(True)\n",
        "plt.gca().set_ylim(0, 1) # set the vertical range to [0-1]\n",
        "plt.show()"
      ],
      "execution_count": 56,
      "outputs": [
        {
          "output_type": "display_data",
          "data": {
            "image/png": "[encoded data removed]",
            "text/plain": [
              "<Figure size 576x360 with 1 Axes>"
            ]
          },
          "metadata": {
            "tags": [],
            "needs_background": "light"
          }
        }
      ]
    },
    {
      "cell_type": "code",
      "metadata": {
        "colab": {
          "base_uri": "https://localhost:8080/"
        },
        "id": "JXIdzKrljZIL",
        "outputId": "00a447b0-b97d-43cf-ab32-92cc1271ef21"
      },
      "source": [
        "# avaliando o model8 no conjunto de teste dos dígitos de 0 a 4\n",
        "model8.evaluate(X1_test_scaled, y1_test)"
      ],
      "execution_count": 57,
      "outputs": [
        {
          "output_type": "stream",
          "text": [
            "161/161 [==============================] - 0s 1ms/step - loss: 0.1425 - accuracy: 0.9792\n"
          ],
          "name": "stdout"
        },
        {
          "output_type": "execute_result",
          "data": {
            "text/plain": [
              "[0.14247994124889374, 0.9791788458824158]"
            ]
          },
          "metadata": {
            "tags": []
          },
          "execution_count": 57
        }
      ]
    },
    {
      "cell_type": "code",
      "metadata": {
        "id": "4PavScbLjhEt"
      },
      "source": [
        "# salvando o modelo para usá-lo depois\n",
        "model8.save(\"model8.h5\")"
      ],
      "execution_count": 58,
      "outputs": []
    },
    {
      "cell_type": "markdown",
      "metadata": {
        "id": "0y1MAXQqj79J"
      },
      "source": [
        "# Carregando a rede salva e transferindo o aprendizado"
      ]
    },
    {
      "cell_type": "code",
      "metadata": {
        "id": "qYW-NCJLjsLn"
      },
      "source": [
        "# carregando o modelo salvo e chamando-o de \"model_A\"\n",
        "model_A = keras.models.load_model(\"model8.h5\")\n",
        "\n",
        "# clonando e compilando o modelo clonado para ter uma cópia salva\n",
        "model_A_clone = keras.models.clone_model(model_A)\n",
        "model_A_clone.set_weights(model_A.get_weights())\n",
        "optimizer = keras.optimizers.Adam(learning_rate=0.003, beta_1=0.7, beta_2=0.999)\n",
        "model_A_clone.compile(loss=\"sparse_categorical_crossentropy\", optimizer=optimizer, metrics=[\"accuracy\"])"
      ],
      "execution_count": 67,
      "outputs": []
    },
    {
      "cell_type": "code",
      "metadata": {
        "colab": {
          "base_uri": "https://localhost:8080/"
        },
        "id": "JWqldkwW6eEv",
        "outputId": "daba267c-5696-446b-e522-8285dad2cfd4"
      },
      "source": [
        "# o comando .summary() mostra a estrutura da rede\n",
        "model_A.summary()"
      ],
      "execution_count": 68,
      "outputs": [
        {
          "output_type": "stream",
          "text": [
            "Model: \"sequential_12\"\n",
            "_________________________________________________________________\n",
            "Layer (type)                 Output Shape              Param #   \n",
            "=================================================================\n",
            "flatten_2 (Flatten)          (None, 784)               0         \n",
            "_________________________________________________________________\n",
            "dense_22 (Dense)             (None, 100)               78500     \n",
            "_________________________________________________________________\n",
            "dense_23 (Dense)             (None, 100)               10100     \n",
            "_________________________________________________________________\n",
            "dense_24 (Dense)             (None, 100)               10100     \n",
            "_________________________________________________________________\n",
            "dense_25 (Dense)             (None, 100)               10100     \n",
            "_________________________________________________________________\n",
            "dense_26 (Dense)             (None, 100)               10100     \n",
            "_________________________________________________________________\n",
            "dense_27 (Dense)             (None, 5)                 505       \n",
            "=================================================================\n",
            "Total params: 119,405\n",
            "Trainable params: 119,405\n",
            "Non-trainable params: 0\n",
            "_________________________________________________________________\n"
          ],
          "name": "stdout"
        }
      ]
    },
    {
      "cell_type": "code",
      "metadata": {
        "id": "yiTH_Nl3kOsK"
      },
      "source": [
        "# construindo o modelo novo e congelando as camadas escondidas\n",
        "model_B = keras.models.Sequential(model_A.layers[:-1])\n",
        "model_B.add(keras.layers.Dense(5, activation=\"softmax\"))\n",
        "for layer in model_B.layers[:-1]:\n",
        "  layer.trainable = False"
      ],
      "execution_count": 246,
      "outputs": []
    },
    {
      "cell_type": "code",
      "metadata": {
        "id": "N0In94abpTm7"
      },
      "source": [
        "# compilando o modelo\n",
        "optimizer = keras.optimizers.Adam(learning_rate=0.003, beta_1=0.7, beta_2=0.999)\n",
        "model_B.compile(loss=\"sparse_categorical_crossentropy\", optimizer=optimizer, metrics=[\"accuracy\"])"
      ],
      "execution_count": 247,
      "outputs": []
    },
    {
      "cell_type": "code",
      "metadata": {
        "colab": {
          "base_uri": "https://localhost:8080/"
        },
        "id": "f1c_IohYq7x2",
        "outputId": "ad4d2afd-86bf-4c27-e77d-00c673d4bafd"
      },
      "source": [
        "model_B.summary()"
      ],
      "execution_count": 248,
      "outputs": [
        {
          "output_type": "stream",
          "text": [
            "Model: \"sequential_32\"\n",
            "_________________________________________________________________\n",
            "Layer (type)                 Output Shape              Param #   \n",
            "=================================================================\n",
            "flatten_2 (Flatten)          (None, 784)               0         \n",
            "_________________________________________________________________\n",
            "dense_22 (Dense)             (None, 100)               78500     \n",
            "_________________________________________________________________\n",
            "dense_23 (Dense)             (None, 100)               10100     \n",
            "_________________________________________________________________\n",
            "dense_24 (Dense)             (None, 100)               10100     \n",
            "_________________________________________________________________\n",
            "dense_25 (Dense)             (None, 100)               10100     \n",
            "_________________________________________________________________\n",
            "dense_26 (Dense)             (None, 100)               10100     \n",
            "_________________________________________________________________\n",
            "dense_102 (Dense)            (None, 5)                 505       \n",
            "=================================================================\n",
            "Total params: 119,405\n",
            "Trainable params: 505\n",
            "Non-trainable params: 118,900\n",
            "_________________________________________________________________\n"
          ],
          "name": "stdout"
        }
      ]
    },
    {
      "cell_type": "code",
      "metadata": {
        "colab": {
          "base_uri": "https://localhost:8080/"
        },
        "id": "3ysT_GS-sEff",
        "outputId": "cbeec8fe-62fb-4b60-a669-69ca730b23bf"
      },
      "source": [
        "# treinando o modelo por 4 épocas com as camadas escondidas congeladas, para melhorar um pouco os pesos da camada de saída, que foram inicializados aleatoriamente\n",
        "history_B = model_B.fit(X_train_small, y_train_small - 5, epochs=4, validation_data=(X_valid_small, y_valid_small - 5))"
      ],
      "execution_count": 249,
      "outputs": [
        {
          "output_type": "stream",
          "text": [
            "Epoch 1/4\n",
            "11/11 [==============================] - 2s 164ms/step - loss: 4.3392 - accuracy: 0.4943 - val_loss: 0.2898 - val_accuracy: 0.9133\n",
            "Epoch 2/4\n",
            "11/11 [==============================] - 0s 5ms/step - loss: 0.1099 - accuracy: 0.9514 - val_loss: 0.0529 - val_accuracy: 0.9867\n",
            "Epoch 3/4\n",
            "11/11 [==============================] - 0s 4ms/step - loss: 0.0377 - accuracy: 0.9829 - val_loss: 0.0277 - val_accuracy: 0.9867\n",
            "Epoch 4/4\n",
            "11/11 [==============================] - 0s 4ms/step - loss: 0.0218 - accuracy: 0.9857 - val_loss: 0.0178 - val_accuracy: 0.9933\n"
          ],
          "name": "stdout"
        }
      ]
    },
    {
      "cell_type": "code",
      "metadata": {
        "colab": {
          "base_uri": "https://localhost:8080/",
          "height": 324
        },
        "id": "yjG4Ivuhr1nr",
        "outputId": "b0a87ffe-6f31-475f-b996-0d15f41d21bd"
      },
      "source": [
        "pd.DataFrame(history_B.history).plot(figsize=(8, 5))\n",
        "plt.grid(True)\n",
        "plt.gca().set_ylim(0, 10) # set the vertical range to [0-1]\n",
        "plt.show()"
      ],
      "execution_count": 250,
      "outputs": [
        {
          "output_type": "display_data",
          "data": {
            "image/png": "[encoded data removed]",
            "text/plain": [
              "<Figure size 576x360 with 1 Axes>"
            ]
          },
          "metadata": {
            "tags": [],
            "needs_background": "light"
          }
        }
      ]
    },
    {
      "cell_type": "code",
      "metadata": {
        "colab": {
          "base_uri": "https://localhost:8080/"
        },
        "id": "NEMNR9Wn_x0r",
        "outputId": "171033bf-779a-4a3d-a8bb-e9887d021f14"
      },
      "source": [
        "model_B.evaluate(X2_test_scaled, y2_test - 5)"
      ],
      "execution_count": 251,
      "outputs": [
        {
          "output_type": "stream",
          "text": [
            "152/152 [==============================] - 0s 2ms/step - loss: 0.2338 - accuracy: 0.9578\n"
          ],
          "name": "stdout"
        },
        {
          "output_type": "execute_result",
          "data": {
            "text/plain": [
              "[0.23377758264541626, 0.957827627658844]"
            ]
          },
          "metadata": {
            "tags": []
          },
          "execution_count": 251
        }
      ]
    },
    {
      "cell_type": "code",
      "metadata": {
        "id": "IhNIJnvbAIKD"
      },
      "source": [
        "# agora, vamos descongelar as camadas escondidas, compilar o modelo novamente e treiná-lo o suficiente, para que todos os pesos se ajustem aos novos dados\n",
        "for layer in model_B.layers[:-1]:\n",
        "  layer.trainable = True\n",
        "# compilando o modelo novamente com a taxa de aprendizagem reduzida. Note que learning_rate=0.0003\n",
        "optimizer = keras.optimizers.Adam(learning_rate=0.0003, beta_1=0.7, beta_2=0.999)\n",
        "model_B.compile(loss=\"sparse_categorical_crossentropy\", optimizer=optimizer, metrics=[\"accuracy\"])"
      ],
      "execution_count": 252,
      "outputs": []
    },
    {
      "cell_type": "code",
      "metadata": {
        "id": "RYPb_7dkBkEs"
      },
      "source": [
        "history_B = model_B.fit(X_train_small, y_train_small - 5, epochs=1000, validation_data=(X_valid_small, y_valid_small - 5), callbacks=[keras.callbacks.EarlyStopping(patience=10)])"
      ],
      "execution_count": null,
      "outputs": []
    },
    {
      "cell_type": "code",
      "metadata": {
        "colab": {
          "base_uri": "https://localhost:8080/",
          "height": 324
        },
        "id": "xkeTXwGfCBg2",
        "outputId": "65c22e1f-0ce7-4ef5-f6c1-619895c2d7b3"
      },
      "source": [
        "pd.DataFrame(history_B.history).plot(figsize=(8, 5))\n",
        "plt.grid(True)\n",
        "plt.gca().set_ylim(0, 1.2) # set the vertical range to [0-1]\n",
        "plt.show()"
      ],
      "execution_count": 255,
      "outputs": [
        {
          "output_type": "display_data",
          "data": {
            "image/png": "[encoded data removed]",
            "text/plain": [
              "<Figure size 576x360 with 1 Axes>"
            ]
          },
          "metadata": {
            "tags": [],
            "needs_background": "light"
          }
        }
      ]
    },
    {
      "cell_type": "code",
      "metadata": {
        "colab": {
          "base_uri": "https://localhost:8080/"
        },
        "id": "_JWvB48bCXJ1",
        "outputId": "f0dad367-6590-4da8-b3d1-e27c7f863d5b"
      },
      "source": [
        "# perceba que obtemos um resultado melhor\n",
        "model_B.evaluate(X2_test_scaled, y2_test - 5)"
      ],
      "execution_count": 256,
      "outputs": [
        {
          "output_type": "stream",
          "text": [
            "152/152 [==============================] - 0s 2ms/step - loss: 0.2901 - accuracy: 0.9702\n"
          ],
          "name": "stdout"
        },
        {
          "output_type": "execute_result",
          "data": {
            "text/plain": [
              "[0.29008254408836365, 0.9701707363128662]"
            ]
          },
          "metadata": {
            "tags": []
          },
          "execution_count": 256
        }
      ]
    },
    {
      "cell_type": "markdown",
      "metadata": {
        "id": "CNEcG9FJgfet"
      },
      "source": [
        "# Comparando os resultados"
      ]
    },
    {
      "cell_type": "code",
      "metadata": {
        "colab": {
          "base_uri": "https://localhost:8080/"
        },
        "id": "wqwmL76FCbW0",
        "outputId": "a3be1579-f816-4861-d7f1-0d101f7959d4"
      },
      "source": [
        "# veja a diferença entre o loss e a acurácia, respectivamente, de cada modelo\n",
        "# ao usar a rede pré-treinada o loss diminuiu e o percentual de acerto subiu em pouco mais de 7%, o que é muito bom!\n",
        "modelo.evaluate(X2_test_scaled, y2_test-5), model_B.evaluate(X2_test_scaled, y2_test-5)"
      ],
      "execution_count": 259,
      "outputs": [
        {
          "output_type": "stream",
          "text": [
            "152/152 [==============================] - 0s 2ms/step - loss: 0.4124 - accuracy: 0.8998\n",
            "152/152 [==============================] - 0s 2ms/step - loss: 0.2901 - accuracy: 0.9702\n"
          ],
          "name": "stdout"
        },
        {
          "output_type": "execute_result",
          "data": {
            "text/plain": [
              "([0.4124276041984558, 0.8998148441314697],\n",
              " [0.29008254408836365, 0.9701707363128662])"
            ]
          },
          "metadata": {
            "tags": []
          },
          "execution_count": 259
        }
      ]
    },
    {
      "cell_type": "markdown",
      "metadata": {
        "id": "x3eWAasoppd6"
      },
      "source": [
        "# Podemos fazer previsões com os modelos"
      ]
    },
    {
      "cell_type": "code",
      "metadata": {
        "colab": {
          "base_uri": "https://localhost:8080/"
        },
        "id": "l6e-ZFmehtHc",
        "outputId": "953d02c2-9e1f-4c88-e1c7-05b4d93ac56b"
      },
      "source": [
        "a = np.around(modelo.predict(X2_test_scaled[:20]))\n",
        "for i in range(len(a)):\n",
        "  pred = np.dot(np.array([5.0, 6.0, 7.0, 8.0, 9.0]), a[i])\n",
        "  print('índice: ', i, 'predição: ', pred, 'rótulo: ', y2_test[i], pred == y2_test[i])"
      ],
      "execution_count": 304,
      "outputs": [
        {
          "output_type": "stream",
          "text": [
            "índice:  0 predição:  7.0 rótulo:  7 True\n",
            "índice:  1 predição:  9.0 rótulo:  9 True\n",
            "índice:  2 predição:  5.0 rótulo:  5 True\n",
            "índice:  3 predição:  9.0 rótulo:  9 True\n",
            "índice:  4 predição:  6.0 rótulo:  6 True\n",
            "índice:  5 predição:  9.0 rótulo:  9 True\n",
            "índice:  6 predição:  5.0 rótulo:  5 True\n",
            "índice:  7 predição:  9.0 rótulo:  9 True\n",
            "índice:  8 predição:  7.0 rótulo:  7 True\n",
            "índice:  9 predição:  9.0 rótulo:  9 True\n",
            "índice:  10 predição:  6.0 rótulo:  6 True\n",
            "índice:  11 predição:  6.0 rótulo:  6 True\n",
            "índice:  12 predição:  5.0 rótulo:  5 True\n",
            "índice:  13 predição:  7.0 rótulo:  7 True\n",
            "índice:  14 predição:  7.0 rótulo:  7 True\n",
            "índice:  15 predição:  7.0 rótulo:  7 True\n",
            "índice:  16 predição:  7.0 rótulo:  7 True\n",
            "índice:  17 predição:  8.0 rótulo:  5 False\n",
            "índice:  18 predição:  6.0 rótulo:  6 True\n",
            "índice:  19 predição:  5.0 rótulo:  5 True\n"
          ],
          "name": "stdout"
        }
      ]
    },
    {
      "cell_type": "code",
      "metadata": {
        "colab": {
          "base_uri": "https://localhost:8080/"
        },
        "id": "rcmdNvr0iV0h",
        "outputId": "e921af12-5940-4c9d-dee8-cb164bbeff0b"
      },
      "source": [
        "b = np.around(model_B.predict(X2_test_scaled[:20]))\n",
        "for i in range(len(b)):\n",
        "  pred = np.dot(np.array([5.0, 6.0, 7.0, 8.0, 9.0]), b[i])\n",
        "  print('índice: ', i, 'predição: ', pred, 'rótulo: ', y2_test[i], pred == y2_test[i])"
      ],
      "execution_count": 305,
      "outputs": [
        {
          "output_type": "stream",
          "text": [
            "índice:  0 predição:  7.0 rótulo:  7 True\n",
            "índice:  1 predição:  9.0 rótulo:  9 True\n",
            "índice:  2 predição:  9.0 rótulo:  5 False\n",
            "índice:  3 predição:  9.0 rótulo:  9 True\n",
            "índice:  4 predição:  6.0 rótulo:  6 True\n",
            "índice:  5 predição:  9.0 rótulo:  9 True\n",
            "índice:  6 predição:  5.0 rótulo:  5 True\n",
            "índice:  7 predição:  9.0 rótulo:  9 True\n",
            "índice:  8 predição:  7.0 rótulo:  7 True\n",
            "índice:  9 predição:  9.0 rótulo:  9 True\n",
            "índice:  10 predição:  6.0 rótulo:  6 True\n",
            "índice:  11 predição:  6.0 rótulo:  6 True\n",
            "índice:  12 predição:  5.0 rótulo:  5 True\n",
            "índice:  13 predição:  7.0 rótulo:  7 True\n",
            "índice:  14 predição:  7.0 rótulo:  7 True\n",
            "índice:  15 predição:  7.0 rótulo:  7 True\n",
            "índice:  16 predição:  7.0 rótulo:  7 True\n",
            "índice:  17 predição:  5.0 rótulo:  5 True\n",
            "índice:  18 predição:  6.0 rótulo:  6 True\n",
            "índice:  19 predição:  5.0 rótulo:  5 True\n"
          ],
          "name": "stdout"
        }
      ]
    },
    {
      "cell_type": "code",
      "metadata": {
        "colab": {
          "base_uri": "https://localhost:8080/",
          "height": 549
        },
        "id": "v7rN1NqtlQNQ",
        "outputId": "3b530892-4cd0-48d2-f83a-185021eb98e5"
      },
      "source": [
        "# vamos ver onde os modelos erraram?\n",
        "for i in [2,17]:\n",
        "  fig = plt.figure\n",
        "  plt.imshow(X2_test_scaled[i], cmap='gray')\n",
        "  print(y2_test[i])\n",
        "  plt.show()"
      ],
      "execution_count": 303,
      "outputs": [
        {
          "output_type": "stream",
          "text": [
            "5\n"
          ],
          "name": "stdout"
        },
        {
          "output_type": "display_data",
          "data": {
            "image/png": "[encoded data removed]",
            "text/plain": [
              "<Figure size 432x288 with 1 Axes>"
            ]
          },
          "metadata": {
            "tags": [],
            "needs_background": "light"
          }
        },
        {
          "output_type": "stream",
          "text": [
            "5\n"
          ],
          "name": "stdout"
        },
        {
          "output_type": "display_data",
          "data": {
            "image/png": "[encoded data removed]",
            "text/plain": [
              "<Figure size 432x288 with 1 Axes>"
            ]
          },
          "metadata": {
            "tags": [],
            "needs_background": "light"
          }
        }
      ]
    }
  ]
}