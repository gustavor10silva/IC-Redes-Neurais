{
  "nbformat": 4,
  "nbformat_minor": 0,
  "metadata": {
    "colab": {
      "name": "Chapter 11.ipynb",
      "provenance": [],
      "authorship_tag": "ABX9TyOIEaBw7brx7BLZTatEnF9C",
      "include_colab_link": true
    },
    "kernelspec": {
      "name": "python3",
      "display_name": "Python 3"
    },
    "language_info": {
      "name": "python"
    }
  },
  "cells": [
    {
      "cell_type": "markdown",
      "metadata": {
        "id": "view-in-github",
        "colab_type": "text"
      },
      "source": [
        "<a href=\"https://colab.research.google.com/github/gustavor10silva/IC-Redes-Neurais/blob/main/Chapter_11.ipynb\" target=\"_parent\"><img src=\"https://colab.research.google.com/assets/colab-badge.svg\" alt=\"Open In Colab\"/></a>"
      ]
    },
    {
      "cell_type": "code",
      "metadata": {
        "id": "g6bjicEfs2i_"
      },
      "source": [
        "import tensorflow as tf\n",
        "from tensorflow import keras\n",
        "import pandas as pd\n",
        "import matplotlib.pyplot as plt\n",
        "%matplotlib inline"
      ],
      "execution_count": 69,
      "outputs": []
    },
    {
      "cell_type": "code",
      "metadata": {
        "id": "axXbU6kytP0C"
      },
      "source": [
        "fashion_mnist = keras.datasets.fashion_mnist\n",
        "(X_train_full, y_train_full), (X_test, y_test) = fashion_mnist.load_data()"
      ],
      "execution_count": 18,
      "outputs": []
    },
    {
      "cell_type": "code",
      "metadata": {
        "colab": {
          "base_uri": "https://localhost:8080/"
        },
        "id": "y4886zpGunjV",
        "outputId": "87ef9d5e-e7cf-402a-b6ab-444bde0727fe"
      },
      "source": [
        "X_train_full.shape, X_train_full.dtype"
      ],
      "execution_count": 78,
      "outputs": [
        {
          "output_type": "execute_result",
          "data": {
            "text/plain": [
              "((60000, 28, 28), dtype('uint8'))"
            ]
          },
          "metadata": {
            "tags": []
          },
          "execution_count": 78
        }
      ]
    },
    {
      "cell_type": "code",
      "metadata": {
        "colab": {
          "base_uri": "https://localhost:8080/"
        },
        "id": "zpdKAbkofNCd",
        "outputId": "eb973905-692e-4fe5-f5ab-960711d28fbf"
      },
      "source": [
        "X_train"
      ],
      "execution_count": 114,
      "outputs": [
        {
          "output_type": "execute_result",
          "data": {
            "text/plain": [
              "array([[[0., 0., 0., ..., 0., 0., 0.],\n",
              "        [0., 0., 0., ..., 0., 0., 0.],\n",
              "        [0., 0., 0., ..., 0., 0., 0.],\n",
              "        ...,\n",
              "        [0., 0., 0., ..., 0., 0., 0.],\n",
              "        [0., 0., 0., ..., 0., 0., 0.],\n",
              "        [0., 0., 0., ..., 0., 0., 0.]],\n",
              "\n",
              "       [[0., 0., 0., ..., 0., 0., 0.],\n",
              "        [0., 0., 0., ..., 0., 0., 0.],\n",
              "        [0., 0., 0., ..., 0., 0., 0.],\n",
              "        ...,\n",
              "        [0., 0., 0., ..., 0., 0., 0.],\n",
              "        [0., 0., 0., ..., 0., 0., 0.],\n",
              "        [0., 0., 0., ..., 0., 0., 0.]],\n",
              "\n",
              "       [[0., 0., 0., ..., 0., 0., 0.],\n",
              "        [0., 0., 0., ..., 0., 0., 0.],\n",
              "        [0., 0., 0., ..., 0., 0., 0.],\n",
              "        ...,\n",
              "        [0., 0., 0., ..., 0., 0., 0.],\n",
              "        [0., 0., 0., ..., 0., 0., 0.],\n",
              "        [0., 0., 0., ..., 0., 0., 0.]],\n",
              "\n",
              "       ...,\n",
              "\n",
              "       [[0., 0., 0., ..., 0., 0., 0.],\n",
              "        [0., 0., 0., ..., 0., 0., 0.],\n",
              "        [0., 0., 0., ..., 0., 0., 0.],\n",
              "        ...,\n",
              "        [0., 0., 0., ..., 0., 0., 0.],\n",
              "        [0., 0., 0., ..., 0., 0., 0.],\n",
              "        [0., 0., 0., ..., 0., 0., 0.]],\n",
              "\n",
              "       [[0., 0., 0., ..., 0., 0., 0.],\n",
              "        [0., 0., 0., ..., 0., 0., 0.],\n",
              "        [0., 0., 0., ..., 0., 0., 0.],\n",
              "        ...,\n",
              "        [0., 0., 0., ..., 0., 0., 0.],\n",
              "        [0., 0., 0., ..., 0., 0., 0.],\n",
              "        [0., 0., 0., ..., 0., 0., 0.]],\n",
              "\n",
              "       [[0., 0., 0., ..., 0., 0., 0.],\n",
              "        [0., 0., 0., ..., 0., 0., 0.],\n",
              "        [0., 0., 0., ..., 0., 0., 0.],\n",
              "        ...,\n",
              "        [0., 0., 0., ..., 0., 0., 0.],\n",
              "        [0., 0., 0., ..., 0., 0., 0.],\n",
              "        [0., 0., 0., ..., 0., 0., 0.]]])"
            ]
          },
          "metadata": {
            "tags": []
          },
          "execution_count": 114
        }
      ]
    },
    {
      "cell_type": "code",
      "metadata": {
        "id": "kvAndmc17Tko"
      },
      "source": [
        "X_valid, X_train = X_train_full[:5000] / 255.0, X_train_full[5000:] / 255.0\n",
        "y_valid, y_train = y_train_full[:5000], y_train_full[5000:]"
      ],
      "execution_count": 54,
      "outputs": []
    },
    {
      "cell_type": "code",
      "metadata": {
        "id": "qneyrtqZ7awH"
      },
      "source": [
        "class_names = [\"T-shirt/top\", \"Trouser\", \"Pullover\", \"Dress\", \"Coat\",\n",
        "\"Sandal\", \"Shirt\", \"Sneaker\", \"Bag\", \"Ankle boot\"]"
      ],
      "execution_count": 55,
      "outputs": []
    },
    {
      "cell_type": "code",
      "metadata": {
        "colab": {
          "base_uri": "https://localhost:8080/",
          "height": 811
        },
        "id": "pCk8m7rA5deQ",
        "outputId": "58d02266-a6a7-4948-ab11-ce39db11d35b"
      },
      "source": [
        "for i in range(3):\n",
        "  fig = plt.figure\n",
        "  plt.imshow(X_train[i], cmap='gray')\n",
        "  print(class_names[y_train[i]])\n",
        "  plt.show()"
      ],
      "execution_count": 53,
      "outputs": [
        {
          "output_type": "stream",
          "text": [
            "Coat\n"
          ],
          "name": "stdout"
        },
        {
          "output_type": "display_data",
          "data": {
            "image/png": "[encoded data removed]",
            "text/plain": [
              "<Figure size 432x288 with 1 Axes>"
            ]
          },
          "metadata": {
            "tags": [],
            "needs_background": "light"
          }
        },
        {
          "output_type": "stream",
          "text": [
            "T-shirt/top\n"
          ],
          "name": "stdout"
        },
        {
          "output_type": "display_data",
          "data": {
            "image/png": "[encoded data removed]",
            "text/plain": [
              "<Figure size 432x288 with 1 Axes>"
            ]
          },
          "metadata": {
            "tags": [],
            "needs_background": "light"
          }
        },
        {
          "output_type": "stream",
          "text": [
            "Sneaker\n"
          ],
          "name": "stdout"
        },
        {
          "output_type": "display_data",
          "data": {
            "image/png": "[encoded data removed]",
            "text/plain": [
              "<Figure size 432x288 with 1 Axes>"
            ]
          },
          "metadata": {
            "tags": [],
            "needs_background": "light"
          }
        }
      ]
    },
    {
      "cell_type": "code",
      "metadata": {
        "id": "3bSgEPHP7WHf"
      },
      "source": [
        "model = keras.models.Sequential() #creating the sequential model\n",
        "model.add(keras.layers.Flatten(input_shape=[28, 28])) #input layer that receive X and computing \n",
        "model.add(keras.layers.Dense(300, activation=\"relu\")) #first dense hidden layer with 300 neurons\n",
        "model.add(keras.layers.Dense(100, activation=\"relu\")) #second dense hidden layer with 100 neurons\n",
        "model.add(keras.layers.Dense(10, activation=\"softmax\")) #output layer with softmax activation function and 10 neurons (one per class)"
      ],
      "execution_count": 57,
      "outputs": []
    },
    {
      "cell_type": "code",
      "metadata": {
        "colab": {
          "base_uri": "https://localhost:8080/"
        },
        "id": "0zI4_eN99BQK",
        "outputId": "ecd98f2b-c45d-4701-980e-52b5e0c7983b"
      },
      "source": [
        "model.summary()"
      ],
      "execution_count": 79,
      "outputs": [
        {
          "output_type": "stream",
          "text": [
            "Model: \"sequential\"\n",
            "_________________________________________________________________\n",
            "Layer (type)                 Output Shape              Param #   \n",
            "=================================================================\n",
            "flatten (Flatten)            (None, 784)               0         \n",
            "_________________________________________________________________\n",
            "dense (Dense)                (None, 300)               235500    \n",
            "_________________________________________________________________\n",
            "dense_1 (Dense)              (None, 100)               30100     \n",
            "_________________________________________________________________\n",
            "dense_2 (Dense)              (None, 10)                1010      \n",
            "=================================================================\n",
            "Total params: 266,610\n",
            "Trainable params: 266,610\n",
            "Non-trainable params: 0\n",
            "_________________________________________________________________\n"
          ],
          "name": "stdout"
        }
      ]
    },
    {
      "cell_type": "code",
      "metadata": {
        "colab": {
          "base_uri": "https://localhost:8080/"
        },
        "id": "05ucQUEL-_Xp",
        "outputId": "719c76e1-a98a-4708-a473-fcf866357ad7"
      },
      "source": [
        "model.layers"
      ],
      "execution_count": 80,
      "outputs": [
        {
          "output_type": "execute_result",
          "data": {
            "text/plain": [
              "[<tensorflow.python.keras.layers.core.Flatten at 0x7f079d3be7d0>,\n",
              " <tensorflow.python.keras.layers.core.Dense at 0x7f079d6c4cd0>,\n",
              " <tensorflow.python.keras.layers.core.Dense at 0x7f079d196b90>,\n",
              " <tensorflow.python.keras.layers.core.Dense at 0x7f079d2c2f90>]"
            ]
          },
          "metadata": {
            "tags": []
          },
          "execution_count": 80
        }
      ]
    },
    {
      "cell_type": "code",
      "metadata": {
        "colab": {
          "base_uri": "https://localhost:8080/",
          "height": 35
        },
        "id": "9p7Y-AncXErI",
        "outputId": "8976036e-e27d-40ab-e46c-7fd044ae4f2d"
      },
      "source": [
        "model.layers[1].name"
      ],
      "execution_count": 96,
      "outputs": [
        {
          "output_type": "execute_result",
          "data": {
            "application/vnd.google.colaboratory.intrinsic+json": {
              "type": "string"
            },
            "text/plain": [
              "'dense'"
            ]
          },
          "metadata": {
            "tags": []
          },
          "execution_count": 96
        }
      ]
    },
    {
      "cell_type": "code",
      "metadata": {
        "colab": {
          "base_uri": "https://localhost:8080/",
          "height": 466
        },
        "id": "p60TgUSjYkAj",
        "outputId": "55acf342-567e-434f-94b9-f4b4a3fd9653"
      },
      "source": [
        "keras.utils.plot_model(model)"
      ],
      "execution_count": 90,
      "outputs": [
        {
          "output_type": "execute_result",
          "data": {
            "image/png": "[encoded data removed]",
            "text/plain": [
              "<IPython.core.display.Image object>"
            ]
          },
          "metadata": {
            "tags": []
          },
          "execution_count": 90
        }
      ]
    },
    {
      "cell_type": "code",
      "metadata": {
        "colab": {
          "base_uri": "https://localhost:8080/"
        },
        "id": "gRS1byrLXgPn",
        "outputId": "4a7923b6-3795-4805-cd37-a853a28db379"
      },
      "source": [
        "model.get_weights()"
      ],
      "execution_count": 107,
      "outputs": [
        {
          "output_type": "execute_result",
          "data": {
            "text/plain": [
              "[array([[ 0.00716361,  0.05131811,  0.03060973, ..., -0.04791537,\n",
              "         -0.05760796,  0.02841272],\n",
              "        [ 0.03060159,  0.02980863, -0.06856228, ...,  0.02344871,\n",
              "         -0.00879022,  0.00236864],\n",
              "        [-0.05440698, -0.0307661 , -0.00726411, ..., -0.05804337,\n",
              "          0.0464871 ,  0.05319008],\n",
              "        ...,\n",
              "        [ 0.04124693, -0.07141432,  0.01849286, ..., -0.06804959,\n",
              "         -0.0516367 , -0.03740522],\n",
              "        [-0.01973734, -0.04667714,  0.02986617, ..., -0.03824904,\n",
              "         -0.0429172 , -0.02188049],\n",
              "        [ 0.03007224, -0.06636152, -0.06523991, ..., -0.05801662,\n",
              "         -0.01524998, -0.06899374]], dtype=float32),\n",
              " array([0., 0., 0., 0., 0., 0., 0., 0., 0., 0., 0., 0., 0., 0., 0., 0., 0.,\n",
              "        0., 0., 0., 0., 0., 0., 0., 0., 0., 0., 0., 0., 0., 0., 0., 0., 0.,\n",
              "        0., 0., 0., 0., 0., 0., 0., 0., 0., 0., 0., 0., 0., 0., 0., 0., 0.,\n",
              "        0., 0., 0., 0., 0., 0., 0., 0., 0., 0., 0., 0., 0., 0., 0., 0., 0.,\n",
              "        0., 0., 0., 0., 0., 0., 0., 0., 0., 0., 0., 0., 0., 0., 0., 0., 0.,\n",
              "        0., 0., 0., 0., 0., 0., 0., 0., 0., 0., 0., 0., 0., 0., 0., 0., 0.,\n",
              "        0., 0., 0., 0., 0., 0., 0., 0., 0., 0., 0., 0., 0., 0., 0., 0., 0.,\n",
              "        0., 0., 0., 0., 0., 0., 0., 0., 0., 0., 0., 0., 0., 0., 0., 0., 0.,\n",
              "        0., 0., 0., 0., 0., 0., 0., 0., 0., 0., 0., 0., 0., 0., 0., 0., 0.,\n",
              "        0., 0., 0., 0., 0., 0., 0., 0., 0., 0., 0., 0., 0., 0., 0., 0., 0.,\n",
              "        0., 0., 0., 0., 0., 0., 0., 0., 0., 0., 0., 0., 0., 0., 0., 0., 0.,\n",
              "        0., 0., 0., 0., 0., 0., 0., 0., 0., 0., 0., 0., 0., 0., 0., 0., 0.,\n",
              "        0., 0., 0., 0., 0., 0., 0., 0., 0., 0., 0., 0., 0., 0., 0., 0., 0.,\n",
              "        0., 0., 0., 0., 0., 0., 0., 0., 0., 0., 0., 0., 0., 0., 0., 0., 0.,\n",
              "        0., 0., 0., 0., 0., 0., 0., 0., 0., 0., 0., 0., 0., 0., 0., 0., 0.,\n",
              "        0., 0., 0., 0., 0., 0., 0., 0., 0., 0., 0., 0., 0., 0., 0., 0., 0.,\n",
              "        0., 0., 0., 0., 0., 0., 0., 0., 0., 0., 0., 0., 0., 0., 0., 0., 0.,\n",
              "        0., 0., 0., 0., 0., 0., 0., 0., 0., 0., 0.], dtype=float32),\n",
              " array([[-0.0323735 , -0.09082729,  0.00677588, ...,  0.02822041,\n",
              "          0.03328144,  0.05394239],\n",
              "        [ 0.02085764, -0.01276737,  0.09268945, ..., -0.05074795,\n",
              "         -0.03679642, -0.04743233],\n",
              "        [ 0.00651275,  0.09185704,  0.10141092, ..., -0.11391693,\n",
              "         -0.03972587,  0.06829318],\n",
              "        ...,\n",
              "        [ 0.05505703,  0.01141777, -0.00602   , ...,  0.10112143,\n",
              "         -0.08197402, -0.01122946],\n",
              "        [-0.11324801,  0.11924716, -0.06933913, ...,  0.10161156,\n",
              "          0.04188491,  0.08437031],\n",
              "        [-0.04653591, -0.05720928,  0.06622361, ..., -0.08448976,\n",
              "         -0.08006775,  0.11113896]], dtype=float32),\n",
              " array([0., 0., 0., 0., 0., 0., 0., 0., 0., 0., 0., 0., 0., 0., 0., 0., 0.,\n",
              "        0., 0., 0., 0., 0., 0., 0., 0., 0., 0., 0., 0., 0., 0., 0., 0., 0.,\n",
              "        0., 0., 0., 0., 0., 0., 0., 0., 0., 0., 0., 0., 0., 0., 0., 0., 0.,\n",
              "        0., 0., 0., 0., 0., 0., 0., 0., 0., 0., 0., 0., 0., 0., 0., 0., 0.,\n",
              "        0., 0., 0., 0., 0., 0., 0., 0., 0., 0., 0., 0., 0., 0., 0., 0., 0.,\n",
              "        0., 0., 0., 0., 0., 0., 0., 0., 0., 0., 0., 0., 0., 0., 0.],\n",
              "       dtype=float32),\n",
              " array([[ 0.07585415,  0.1055581 , -0.22822581,  0.12813282,  0.1893141 ,\n",
              "          0.01400279, -0.10098884,  0.15366566,  0.11429456, -0.08374466],\n",
              "        [ 0.04030088,  0.12509432,  0.06165171,  0.03921419, -0.0012504 ,\n",
              "         -0.15613887,  0.20013207, -0.01363093,  0.07030171, -0.00925361],\n",
              "        [-0.1957959 , -0.03965051,  0.04412538,  0.12819502, -0.1192834 ,\n",
              "         -0.19753134,  0.05697805, -0.18080619, -0.0188475 ,  0.0560219 ],\n",
              "        [ 0.05945975, -0.16759773, -0.22735628, -0.2309717 ,  0.04438037,\n",
              "         -0.11483659,  0.1480493 ,  0.02729827,  0.05300018, -0.16200268],\n",
              "        [-0.02346931, -0.18573777,  0.0813067 ,  0.1736958 ,  0.20291033,\n",
              "         -0.21588472, -0.05507363,  0.13338184,  0.22667539,  0.12080804],\n",
              "        [-0.01576836, -0.11072978,  0.06910381,  0.02933419,  0.1191467 ,\n",
              "         -0.01849046,  0.16563424,  0.04677108, -0.04214208,  0.03130063],\n",
              "        [-0.1114277 , -0.16249225, -0.05514452,  0.00647879,  0.02464399,\n",
              "         -0.18246387,  0.02301875,  0.11248115,  0.10285702, -0.22613616],\n",
              "        [ 0.17448878,  0.09466651,  0.22100678, -0.01468082, -0.03786026,\n",
              "         -0.07966502, -0.08489172, -0.09932476, -0.09506142, -0.09623583],\n",
              "        [-0.21635601,  0.07406729, -0.103717  , -0.0804693 , -0.10741115,\n",
              "          0.03390157, -0.07552764, -0.07968189,  0.05594397, -0.10080914],\n",
              "        [ 0.1169264 ,  0.16623372,  0.16118076,  0.2196703 ,  0.0038534 ,\n",
              "          0.07269081, -0.1359801 , -0.07081109, -0.16762212, -0.1421847 ],\n",
              "        [-0.0372991 , -0.10173921, -0.17538968,  0.15325001, -0.05763164,\n",
              "         -0.0077911 , -0.1654261 , -0.19967502,  0.0791814 , -0.17013223],\n",
              "        [-0.22594033, -0.08371164,  0.06481454,  0.01410167, -0.12593219,\n",
              "          0.2189615 , -0.10992438, -0.12554769,  0.03458324, -0.11877496],\n",
              "        [-0.14818338, -0.15270269, -0.19866872,  0.05582356,  0.0800665 ,\n",
              "          0.04964101,  0.21063596,  0.14568329,  0.17707801,  0.06356683],\n",
              "        [ 0.16828352, -0.0977011 , -0.16036984,  0.06162432,  0.13781628,\n",
              "          0.18285254,  0.17627469, -0.17987189,  0.08548012,  0.04589421],\n",
              "        [ 0.12826088,  0.03333509, -0.15899861, -0.15672253, -0.21331413,\n",
              "          0.0869576 , -0.11412051, -0.02386127,  0.08607766,  0.07833633],\n",
              "        [-0.03940913, -0.1919386 ,  0.03453472, -0.09372492,  0.01762542,\n",
              "          0.06395149,  0.19454405, -0.13026607, -0.22004399, -0.1880074 ],\n",
              "        [-0.18033823, -0.08408277, -0.20450726,  0.14674172,  0.10420588,\n",
              "          0.19525266, -0.23239923, -0.18502265,  0.14432603,  0.04326719],\n",
              "        [ 0.0408209 ,  0.01267731, -0.17773446,  0.03457978, -0.00838953,\n",
              "         -0.15367982, -0.04717073,  0.03335086,  0.01318368,  0.07044449],\n",
              "        [-0.09446093,  0.12382087, -0.12282888, -0.03874762, -0.02967013,\n",
              "         -0.08178547,  0.15235507,  0.06068239, -0.05067299, -0.15888023],\n",
              "        [-0.06393167,  0.07386878, -0.0054888 ,  0.20909962, -0.01116335,\n",
              "          0.11123341,  0.02427539, -0.1338096 , -0.02528958,  0.13710934],\n",
              "        [ 0.05175763,  0.04982027,  0.11479521, -0.00132096,  0.00582752,\n",
              "          0.12344038, -0.20448315, -0.14342748, -0.11060755,  0.04043642],\n",
              "        [-0.17486887, -0.1510399 ,  0.15153375,  0.1928299 ,  0.08141544,\n",
              "          0.07410979,  0.01980725, -0.03005774, -0.2083424 ,  0.10281751],\n",
              "        [ 0.22460434, -0.14777033, -0.01706098,  0.17255321, -0.10436258,\n",
              "          0.1087133 ,  0.00672261, -0.09216844, -0.18654758, -0.14433137],\n",
              "        [-0.0844162 , -0.02037486,  0.09791377,  0.15585443,  0.21237779,\n",
              "         -0.02448368,  0.11907119, -0.00437687, -0.03943475, -0.14493468],\n",
              "        [ 0.08130458,  0.03445381,  0.22241911,  0.075277  ,  0.15779826,\n",
              "         -0.18531565, -0.12921683,  0.20873246,  0.21174833,  0.00570267],\n",
              "        [ 0.12341264, -0.22905153,  0.10870677,  0.22088736, -0.08762451,\n",
              "          0.08963013, -0.06952879,  0.00992909, -0.14385067, -0.07258531],\n",
              "        [-0.18177351,  0.23327062, -0.17841001, -0.13366376, -0.13409953,\n",
              "         -0.08221845, -0.06550689,  0.00894296,  0.17943424, -0.04199319],\n",
              "        [-0.13885666,  0.08774701, -0.17299977,  0.02517727,  0.22651663,\n",
              "         -0.04692939,  0.20862043, -0.19720945,  0.15426043, -0.00498003],\n",
              "        [-0.01100817, -0.06563261,  0.01373121, -0.04880172,  0.19210169,\n",
              "          0.07351521,  0.0192734 , -0.19921313, -0.00155109,  0.1908392 ],\n",
              "        [ 0.10620996,  0.0597702 , -0.06793821, -0.05182517,  0.16937947,\n",
              "          0.1478613 , -0.05920896,  0.1734057 , -0.1683701 , -0.05053997],\n",
              "        [ 0.02225745,  0.19815528, -0.19540945,  0.0405671 ,  0.00115713,\n",
              "          0.05168793, -0.15906715, -0.17824246, -0.1024878 ,  0.10416195],\n",
              "        [-0.19413443, -0.13080218, -0.09712757, -0.17004888, -0.05886395,\n",
              "          0.05894765, -0.04060173,  0.02673587,  0.2130233 ,  0.1841717 ],\n",
              "        [-0.10192703,  0.09483066,  0.09497634,  0.22428957,  0.23296937,\n",
              "         -0.08699608, -0.00213242,  0.16514775,  0.22066873, -0.04892077],\n",
              "        [ 0.22155967, -0.06995581,  0.20734552, -0.07392237,  0.04720792,\n",
              "          0.06594929, -0.10679218,  0.01962966, -0.18745637, -0.08638145],\n",
              "        [-0.12435658,  0.09731901, -0.08078384, -0.1465966 ,  0.06315881,\n",
              "          0.23342657, -0.06860289,  0.08138144,  0.22816133,  0.02138674],\n",
              "        [ 0.19195798,  0.04493636,  0.18888652,  0.06214935, -0.00998956,\n",
              "         -0.18586011, -0.23262496, -0.10477346, -0.128174  , -0.0249723 ],\n",
              "        [-0.01619689, -0.06490117,  0.03403381,  0.06001279, -0.16379827,\n",
              "         -0.05875726, -0.09382264,  0.16681373, -0.20975964,  0.07122993],\n",
              "        [ 0.16161507, -0.21550463,  0.01732296, -0.15476707, -0.0214927 ,\n",
              "          0.22713718,  0.03748122, -0.03242764,  0.10825312, -0.00062069],\n",
              "        [ 0.02590716, -0.11542927,  0.14357096, -0.07552959, -0.01430057,\n",
              "          0.06461284, -0.18640435,  0.22829476,  0.2335034 ,  0.13504374],\n",
              "        [-0.06838824, -0.21266994, -0.22092043, -0.21665737, -0.2183015 ,\n",
              "         -0.10744879, -0.16929956, -0.20661841, -0.19600019,  0.12790263],\n",
              "        [ 0.16296777, -0.02099122, -0.01783513,  0.15363821,  0.00090244,\n",
              "         -0.08372818,  0.05334091, -0.23100154, -0.22630349,  0.17486593],\n",
              "        [ 0.16067985, -0.15887004,  0.00566475, -0.07196678, -0.04184629,\n",
              "          0.14048544, -0.19091426,  0.18385115, -0.10394602,  0.16512331],\n",
              "        [ 0.16128069, -0.07134715,  0.15025821, -0.22945495, -0.09995291,\n",
              "          0.05618483,  0.03546891,  0.01718226,  0.04189339,  0.03471169],\n",
              "        [-0.09389898,  0.02125403, -0.04974988,  0.07186717, -0.18012848,\n",
              "         -0.06930777,  0.22988081, -0.12168276, -0.17925794, -0.1397542 ],\n",
              "        [-0.07577336, -0.15739356,  0.2106441 ,  0.15191305,  0.16784495,\n",
              "          0.04257452, -0.09398368, -0.10568577, -0.21261476, -0.1014182 ],\n",
              "        [-0.1769308 ,  0.08004746,  0.15109313,  0.0343653 ,  0.17701194,\n",
              "          0.1398977 ,  0.04445201,  0.09651306,  0.01013517,  0.17145273],\n",
              "        [-0.02460085,  0.02744356,  0.16321301,  0.20845833, -0.14453474,\n",
              "         -0.0647462 , -0.22703443,  0.05439681,  0.08184549,  0.1546624 ],\n",
              "        [ 0.17332646,  0.05735099,  0.21405303,  0.22145274,  0.0347628 ,\n",
              "          0.00163396, -0.1729412 , -0.1369007 ,  0.05203047, -0.08122958],\n",
              "        [-0.17866904,  0.1724714 , -0.14184292,  0.16859093,  0.2072387 ,\n",
              "          0.12072557,  0.2150934 ,  0.08682308,  0.01118413, -0.14605659],\n",
              "        [-0.21015787,  0.02934963,  0.17081746,  0.22976968, -0.19437844,\n",
              "          0.2105256 , -0.1970635 , -0.01812261,  0.06602579, -0.02696301],\n",
              "        [-0.17785886, -0.17799127, -0.12926969, -0.03069942, -0.19304928,\n",
              "          0.18880728, -0.02167895,  0.13104132,  0.21187344,  0.07336748],\n",
              "        [-0.19967173, -0.0215099 ,  0.06245533, -0.04290326,  0.20649147,\n",
              "         -0.13127771, -0.21643487, -0.00943057,  0.16655937,  0.212304  ],\n",
              "        [ 0.21029437,  0.16332102, -0.20531711, -0.11808227, -0.11883432,\n",
              "         -0.11989914, -0.06881866,  0.06103584, -0.06755495, -0.21067077],\n",
              "        [-0.00332581,  0.108239  , -0.03906156,  0.16925669, -0.11949778,\n",
              "          0.11661732,  0.22749883, -0.09405389,  0.00928797,  0.16698638],\n",
              "        [-0.21772537,  0.223584  , -0.07460375,  0.14592046,  0.1767618 ,\n",
              "         -0.2128303 , -0.06994401,  0.11929649, -0.17330703,  0.21132928],\n",
              "        [ 0.00866945, -0.22402997, -0.03397155, -0.20273344, -0.05309451,\n",
              "          0.11046952, -0.15546583, -0.22987336, -0.00124004,  0.19865942],\n",
              "        [-0.01238531,  0.14332697,  0.18825027, -0.0555274 ,  0.05571064,\n",
              "         -0.11446268, -0.13064292,  0.09090495, -0.19134535, -0.20984238],\n",
              "        [-0.14179254,  0.1278083 , -0.20289375,  0.02461132, -0.09028158,\n",
              "         -0.19345343, -0.00794011,  0.19840339, -0.01062313,  0.10050371],\n",
              "        [ 0.06234533, -0.2095065 ,  0.1277413 , -0.07256237,  0.15125015,\n",
              "          0.09316742,  0.20848507,  0.071105  , -0.1542275 ,  0.1920583 ],\n",
              "        [-0.13531888, -0.07878011,  0.16926464, -0.222749  ,  0.18831247,\n",
              "          0.05264226,  0.11294577,  0.13238272, -0.15188505, -0.02417788],\n",
              "        [ 0.07800066, -0.02128573,  0.17657304,  0.05641001,  0.15363872,\n",
              "          0.2061297 ,  0.21003386, -0.08921602, -0.06651607,  0.014394  ],\n",
              "        [-0.19782068,  0.14221025, -0.21732362, -0.18075714,  0.16664249,\n",
              "          0.22143549,  0.00748719,  0.13741955,  0.08853558,  0.22414756],\n",
              "        [ 0.01471318,  0.16481856, -0.22931613,  0.174853  , -0.21698768,\n",
              "          0.1653203 , -0.05270028, -0.22019005,  0.13751644,  0.22508514],\n",
              "        [ 0.11985859,  0.15039048, -0.06753807,  0.1195851 ,  0.02385592,\n",
              "          0.12015489,  0.10471779, -0.19685008,  0.08928084,  0.12733305],\n",
              "        [ 0.1663515 , -0.1935521 , -0.10716142,  0.19437945,  0.17793837,\n",
              "         -0.22837822, -0.10330211,  0.00687525,  0.16104394,  0.17907223],\n",
              "        [ 0.08369294,  0.03252643,  0.22314513,  0.12875572,  0.10701451,\n",
              "         -0.10431029, -0.11220074, -0.03056517,  0.19656348, -0.02726158],\n",
              "        [-0.15364635, -0.10553987, -0.08178441,  0.0499754 , -0.22805893,\n",
              "          0.16020697, -0.06035474, -0.10637601,  0.19249386, -0.11426077],\n",
              "        [-0.14452381, -0.1839016 ,  0.07375765, -0.03589271,  0.2309713 ,\n",
              "         -0.1600303 , -0.10781251,  0.21529135, -0.22042263, -0.10670504],\n",
              "        [ 0.02329135,  0.03416711, -0.09517296,  0.10086554,  0.05879077,\n",
              "          0.13552836,  0.16983733,  0.22695264, -0.04834296,  0.07402444],\n",
              "        [ 0.20857131, -0.05544816,  0.12316722,  0.08332464,  0.14723939,\n",
              "         -0.00416434,  0.11432159,  0.14450878,  0.01641579, -0.02954812],\n",
              "        [ 0.07892114, -0.13027626, -0.05189756, -0.23005137,  0.2284598 ,\n",
              "         -0.19319445, -0.1923121 ,  0.04453805,  0.06898934,  0.02867195],\n",
              "        [-0.00039396, -0.20444712, -0.14015535,  0.1027686 , -0.09954153,\n",
              "          0.05130681, -0.17039967,  0.15937153,  0.23207325,  0.15483901],\n",
              "        [-0.22823144, -0.03732555,  0.00583799,  0.0744015 , -0.18014914,\n",
              "          0.15334865,  0.02154091, -0.0908042 ,  0.05518034,  0.01907775],\n",
              "        [ 0.1729593 ,  0.09889355,  0.2095468 ,  0.00359164,  0.15122336,\n",
              "         -0.00374487,  0.07545507,  0.09602588,  0.01049884, -0.0554211 ],\n",
              "        [ 0.23281273,  0.10045946, -0.17294705,  0.22489476, -0.19912994,\n",
              "         -0.21589981, -0.0067773 , -0.05133322,  0.11126193,  0.18211728],\n",
              "        [ 0.22934794,  0.03700569, -0.02633674,  0.20106947, -0.17577527,\n",
              "          0.07706225, -0.09304933, -0.07306072,  0.13823351,  0.10621548],\n",
              "        [-0.13124457, -0.04279357,  0.14370811, -0.1110779 ,  0.09335047,\n",
              "          0.07048151,  0.09708175,  0.01190248,  0.1494903 ,  0.15895045],\n",
              "        [ 0.02548018,  0.20479581,  0.0015424 ,  0.15670845,  0.06445298,\n",
              "         -0.18733932, -0.13055044, -0.22247754, -0.13940808,  0.03977174],\n",
              "        [ 0.11339203, -0.21244115,  0.07959619, -0.23335274,  0.07957625,\n",
              "         -0.12571174,  0.03097171, -0.16531152, -0.01851378, -0.15411124],\n",
              "        [-0.23140378,  0.22518238,  0.06865901,  0.1811128 ,  0.01540387,\n",
              "          0.12602639, -0.09396943, -0.06790191,  0.15742892,  0.0334442 ],\n",
              "        [ 0.09892714, -0.16004911, -0.06090188, -0.21304262, -0.07392403,\n",
              "         -0.15806115, -0.18301935,  0.12755826, -0.04794382, -0.06774582],\n",
              "        [-0.23197137, -0.00395152,  0.00701985,  0.01112761, -0.04967076,\n",
              "         -0.16607893, -0.22037664,  0.18663228,  0.10717043,  0.00986601],\n",
              "        [ 0.21158707, -0.09266518,  0.05721843,  0.02199358,  0.07241705,\n",
              "          0.11019111,  0.0531283 ,  0.06388417, -0.11502346, -0.1762331 ],\n",
              "        [ 0.05185375, -0.03852189, -0.01733805, -0.07044487,  0.0386804 ,\n",
              "          0.18166709, -0.04224615,  0.01387894,  0.20725107, -0.07041313],\n",
              "        [-0.04237495, -0.09813192, -0.01735504,  0.10395995,  0.01755127,\n",
              "          0.01896459, -0.18492487,  0.22639006,  0.10271946,  0.13415483],\n",
              "        [ 0.09602466, -0.21882197,  0.00755106, -0.17739457, -0.232906  ,\n",
              "         -0.2043047 ,  0.00166503,  0.07094485,  0.11203352, -0.18813647],\n",
              "        [ 0.18763766, -0.221586  ,  0.00345945, -0.20005244, -0.23051143,\n",
              "          0.06125328, -0.17122589,  0.21097201, -0.14340042,  0.05628851],\n",
              "        [-0.13148046,  0.12131393,  0.12000227,  0.0382624 , -0.03929876,\n",
              "          0.04065001, -0.12104169, -0.08083552,  0.20689353,  0.12417105],\n",
              "        [-0.04909094, -0.1207679 ,  0.1931802 , -0.21516347, -0.01762314,\n",
              "          0.07922813, -0.15543047,  0.21575174,  0.03621462,  0.22737554],\n",
              "        [ 0.13195291,  0.03265956, -0.04311396, -0.14348339,  0.0582839 ,\n",
              "         -0.009305  ,  0.07877487, -0.17877762, -0.07237022, -0.23174183],\n",
              "        [-0.16160572, -0.13993523,  0.22504947, -0.00993477,  0.14934185,\n",
              "         -0.14405435, -0.01185137,  0.1825735 ,  0.04565689,  0.0301705 ],\n",
              "        [-0.00477189,  0.133742  , -0.18007982, -0.1990973 ,  0.10679662,\n",
              "         -0.06349535,  0.09298307,  0.08524281, -0.03100869,  0.09334505],\n",
              "        [ 0.07164833, -0.0058357 , -0.08587217, -0.19992603,  0.21525326,\n",
              "          0.21928275, -0.18912484, -0.21958221,  0.03958541,  0.01021998],\n",
              "        [-0.08555941,  0.04665667, -0.18061593, -0.04677053,  0.17561737,\n",
              "          0.12325329, -0.21533263,  0.04709417, -0.20874727, -0.01517563],\n",
              "        [ 0.01088539, -0.12167797, -0.14926541, -0.22964884,  0.11201477,\n",
              "         -0.06709149, -0.00057554, -0.07915078,  0.20017138,  0.19264731],\n",
              "        [-0.19216327,  0.15278926, -0.20099531, -0.19732939,  0.14518142,\n",
              "         -0.05379923, -0.005236  ,  0.23073566, -0.05125883,  0.03851181],\n",
              "        [-0.18567118,  0.21107718, -0.17401259,  0.07414666, -0.16064793,\n",
              "          0.23079368, -0.08063668,  0.0617986 ,  0.07905906,  0.01600434],\n",
              "        [ 0.03414825,  0.07000381, -0.05976556, -0.01690094, -0.10730012,\n",
              "         -0.15275648, -0.09742041,  0.02266207, -0.03863041,  0.20169255],\n",
              "        [-0.1758697 ,  0.22434747,  0.05232093,  0.19626486,  0.14919847,\n",
              "          0.13165212,  0.06866202, -0.22077087, -0.02480459, -0.11038426],\n",
              "        [ 0.22189826,  0.04117188, -0.00165299,  0.13558987,  0.02200213,\n",
              "         -0.15707545, -0.06988002, -0.08552088,  0.1480605 , -0.06704661]],\n",
              "       dtype=float32),\n",
              " array([0., 0., 0., 0., 0., 0., 0., 0., 0., 0.], dtype=float32)]"
            ]
          },
          "metadata": {
            "tags": []
          },
          "execution_count": 107
        }
      ]
    },
    {
      "cell_type": "code",
      "metadata": {
        "colab": {
          "base_uri": "https://localhost:8080/"
        },
        "id": "HYATE905YRjd",
        "outputId": "77bbcd94-1324-4bd4-9f8f-65fb5660d093"
      },
      "source": [
        "for lay in model.layers:\n",
        "    print(lay.name)\n",
        "    print(lay.get_weights())"
      ],
      "execution_count": 108,
      "outputs": [
        {
          "output_type": "stream",
          "text": [
            "flatten\n",
            "[]\n",
            "dense\n",
            "[array([[ 0.00716361,  0.05131811,  0.03060973, ..., -0.04791537,\n",
            "        -0.05760796,  0.02841272],\n",
            "       [ 0.03060159,  0.02980863, -0.06856228, ...,  0.02344871,\n",
            "        -0.00879022,  0.00236864],\n",
            "       [-0.05440698, -0.0307661 , -0.00726411, ..., -0.05804337,\n",
            "         0.0464871 ,  0.05319008],\n",
            "       ...,\n",
            "       [ 0.04124693, -0.07141432,  0.01849286, ..., -0.06804959,\n",
            "        -0.0516367 , -0.03740522],\n",
            "       [-0.01973734, -0.04667714,  0.02986617, ..., -0.03824904,\n",
            "        -0.0429172 , -0.02188049],\n",
            "       [ 0.03007224, -0.06636152, -0.06523991, ..., -0.05801662,\n",
            "        -0.01524998, -0.06899374]], dtype=float32), array([0., 0., 0., 0., 0., 0., 0., 0., 0., 0., 0., 0., 0., 0., 0., 0., 0.,\n",
            "       0., 0., 0., 0., 0., 0., 0., 0., 0., 0., 0., 0., 0., 0., 0., 0., 0.,\n",
            "       0., 0., 0., 0., 0., 0., 0., 0., 0., 0., 0., 0., 0., 0., 0., 0., 0.,\n",
            "       0., 0., 0., 0., 0., 0., 0., 0., 0., 0., 0., 0., 0., 0., 0., 0., 0.,\n",
            "       0., 0., 0., 0., 0., 0., 0., 0., 0., 0., 0., 0., 0., 0., 0., 0., 0.,\n",
            "       0., 0., 0., 0., 0., 0., 0., 0., 0., 0., 0., 0., 0., 0., 0., 0., 0.,\n",
            "       0., 0., 0., 0., 0., 0., 0., 0., 0., 0., 0., 0., 0., 0., 0., 0., 0.,\n",
            "       0., 0., 0., 0., 0., 0., 0., 0., 0., 0., 0., 0., 0., 0., 0., 0., 0.,\n",
            "       0., 0., 0., 0., 0., 0., 0., 0., 0., 0., 0., 0., 0., 0., 0., 0., 0.,\n",
            "       0., 0., 0., 0., 0., 0., 0., 0., 0., 0., 0., 0., 0., 0., 0., 0., 0.,\n",
            "       0., 0., 0., 0., 0., 0., 0., 0., 0., 0., 0., 0., 0., 0., 0., 0., 0.,\n",
            "       0., 0., 0., 0., 0., 0., 0., 0., 0., 0., 0., 0., 0., 0., 0., 0., 0.,\n",
            "       0., 0., 0., 0., 0., 0., 0., 0., 0., 0., 0., 0., 0., 0., 0., 0., 0.,\n",
            "       0., 0., 0., 0., 0., 0., 0., 0., 0., 0., 0., 0., 0., 0., 0., 0., 0.,\n",
            "       0., 0., 0., 0., 0., 0., 0., 0., 0., 0., 0., 0., 0., 0., 0., 0., 0.,\n",
            "       0., 0., 0., 0., 0., 0., 0., 0., 0., 0., 0., 0., 0., 0., 0., 0., 0.,\n",
            "       0., 0., 0., 0., 0., 0., 0., 0., 0., 0., 0., 0., 0., 0., 0., 0., 0.,\n",
            "       0., 0., 0., 0., 0., 0., 0., 0., 0., 0., 0.], dtype=float32)]\n",
            "dense_1\n",
            "[array([[-0.0323735 , -0.09082729,  0.00677588, ...,  0.02822041,\n",
            "         0.03328144,  0.05394239],\n",
            "       [ 0.02085764, -0.01276737,  0.09268945, ..., -0.05074795,\n",
            "        -0.03679642, -0.04743233],\n",
            "       [ 0.00651275,  0.09185704,  0.10141092, ..., -0.11391693,\n",
            "        -0.03972587,  0.06829318],\n",
            "       ...,\n",
            "       [ 0.05505703,  0.01141777, -0.00602   , ...,  0.10112143,\n",
            "        -0.08197402, -0.01122946],\n",
            "       [-0.11324801,  0.11924716, -0.06933913, ...,  0.10161156,\n",
            "         0.04188491,  0.08437031],\n",
            "       [-0.04653591, -0.05720928,  0.06622361, ..., -0.08448976,\n",
            "        -0.08006775,  0.11113896]], dtype=float32), array([0., 0., 0., 0., 0., 0., 0., 0., 0., 0., 0., 0., 0., 0., 0., 0., 0.,\n",
            "       0., 0., 0., 0., 0., 0., 0., 0., 0., 0., 0., 0., 0., 0., 0., 0., 0.,\n",
            "       0., 0., 0., 0., 0., 0., 0., 0., 0., 0., 0., 0., 0., 0., 0., 0., 0.,\n",
            "       0., 0., 0., 0., 0., 0., 0., 0., 0., 0., 0., 0., 0., 0., 0., 0., 0.,\n",
            "       0., 0., 0., 0., 0., 0., 0., 0., 0., 0., 0., 0., 0., 0., 0., 0., 0.,\n",
            "       0., 0., 0., 0., 0., 0., 0., 0., 0., 0., 0., 0., 0., 0., 0.],\n",
            "      dtype=float32)]\n",
            "dense_2\n",
            "[array([[ 0.07585415,  0.1055581 , -0.22822581,  0.12813282,  0.1893141 ,\n",
            "         0.01400279, -0.10098884,  0.15366566,  0.11429456, -0.08374466],\n",
            "       [ 0.04030088,  0.12509432,  0.06165171,  0.03921419, -0.0012504 ,\n",
            "        -0.15613887,  0.20013207, -0.01363093,  0.07030171, -0.00925361],\n",
            "       [-0.1957959 , -0.03965051,  0.04412538,  0.12819502, -0.1192834 ,\n",
            "        -0.19753134,  0.05697805, -0.18080619, -0.0188475 ,  0.0560219 ],\n",
            "       [ 0.05945975, -0.16759773, -0.22735628, -0.2309717 ,  0.04438037,\n",
            "        -0.11483659,  0.1480493 ,  0.02729827,  0.05300018, -0.16200268],\n",
            "       [-0.02346931, -0.18573777,  0.0813067 ,  0.1736958 ,  0.20291033,\n",
            "        -0.21588472, -0.05507363,  0.13338184,  0.22667539,  0.12080804],\n",
            "       [-0.01576836, -0.11072978,  0.06910381,  0.02933419,  0.1191467 ,\n",
            "        -0.01849046,  0.16563424,  0.04677108, -0.04214208,  0.03130063],\n",
            "       [-0.1114277 , -0.16249225, -0.05514452,  0.00647879,  0.02464399,\n",
            "        -0.18246387,  0.02301875,  0.11248115,  0.10285702, -0.22613616],\n",
            "       [ 0.17448878,  0.09466651,  0.22100678, -0.01468082, -0.03786026,\n",
            "        -0.07966502, -0.08489172, -0.09932476, -0.09506142, -0.09623583],\n",
            "       [-0.21635601,  0.07406729, -0.103717  , -0.0804693 , -0.10741115,\n",
            "         0.03390157, -0.07552764, -0.07968189,  0.05594397, -0.10080914],\n",
            "       [ 0.1169264 ,  0.16623372,  0.16118076,  0.2196703 ,  0.0038534 ,\n",
            "         0.07269081, -0.1359801 , -0.07081109, -0.16762212, -0.1421847 ],\n",
            "       [-0.0372991 , -0.10173921, -0.17538968,  0.15325001, -0.05763164,\n",
            "        -0.0077911 , -0.1654261 , -0.19967502,  0.0791814 , -0.17013223],\n",
            "       [-0.22594033, -0.08371164,  0.06481454,  0.01410167, -0.12593219,\n",
            "         0.2189615 , -0.10992438, -0.12554769,  0.03458324, -0.11877496],\n",
            "       [-0.14818338, -0.15270269, -0.19866872,  0.05582356,  0.0800665 ,\n",
            "         0.04964101,  0.21063596,  0.14568329,  0.17707801,  0.06356683],\n",
            "       [ 0.16828352, -0.0977011 , -0.16036984,  0.06162432,  0.13781628,\n",
            "         0.18285254,  0.17627469, -0.17987189,  0.08548012,  0.04589421],\n",
            "       [ 0.12826088,  0.03333509, -0.15899861, -0.15672253, -0.21331413,\n",
            "         0.0869576 , -0.11412051, -0.02386127,  0.08607766,  0.07833633],\n",
            "       [-0.03940913, -0.1919386 ,  0.03453472, -0.09372492,  0.01762542,\n",
            "         0.06395149,  0.19454405, -0.13026607, -0.22004399, -0.1880074 ],\n",
            "       [-0.18033823, -0.08408277, -0.20450726,  0.14674172,  0.10420588,\n",
            "         0.19525266, -0.23239923, -0.18502265,  0.14432603,  0.04326719],\n",
            "       [ 0.0408209 ,  0.01267731, -0.17773446,  0.03457978, -0.00838953,\n",
            "        -0.15367982, -0.04717073,  0.03335086,  0.01318368,  0.07044449],\n",
            "       [-0.09446093,  0.12382087, -0.12282888, -0.03874762, -0.02967013,\n",
            "        -0.08178547,  0.15235507,  0.06068239, -0.05067299, -0.15888023],\n",
            "       [-0.06393167,  0.07386878, -0.0054888 ,  0.20909962, -0.01116335,\n",
            "         0.11123341,  0.02427539, -0.1338096 , -0.02528958,  0.13710934],\n",
            "       [ 0.05175763,  0.04982027,  0.11479521, -0.00132096,  0.00582752,\n",
            "         0.12344038, -0.20448315, -0.14342748, -0.11060755,  0.04043642],\n",
            "       [-0.17486887, -0.1510399 ,  0.15153375,  0.1928299 ,  0.08141544,\n",
            "         0.07410979,  0.01980725, -0.03005774, -0.2083424 ,  0.10281751],\n",
            "       [ 0.22460434, -0.14777033, -0.01706098,  0.17255321, -0.10436258,\n",
            "         0.1087133 ,  0.00672261, -0.09216844, -0.18654758, -0.14433137],\n",
            "       [-0.0844162 , -0.02037486,  0.09791377,  0.15585443,  0.21237779,\n",
            "        -0.02448368,  0.11907119, -0.00437687, -0.03943475, -0.14493468],\n",
            "       [ 0.08130458,  0.03445381,  0.22241911,  0.075277  ,  0.15779826,\n",
            "        -0.18531565, -0.12921683,  0.20873246,  0.21174833,  0.00570267],\n",
            "       [ 0.12341264, -0.22905153,  0.10870677,  0.22088736, -0.08762451,\n",
            "         0.08963013, -0.06952879,  0.00992909, -0.14385067, -0.07258531],\n",
            "       [-0.18177351,  0.23327062, -0.17841001, -0.13366376, -0.13409953,\n",
            "        -0.08221845, -0.06550689,  0.00894296,  0.17943424, -0.04199319],\n",
            "       [-0.13885666,  0.08774701, -0.17299977,  0.02517727,  0.22651663,\n",
            "        -0.04692939,  0.20862043, -0.19720945,  0.15426043, -0.00498003],\n",
            "       [-0.01100817, -0.06563261,  0.01373121, -0.04880172,  0.19210169,\n",
            "         0.07351521,  0.0192734 , -0.19921313, -0.00155109,  0.1908392 ],\n",
            "       [ 0.10620996,  0.0597702 , -0.06793821, -0.05182517,  0.16937947,\n",
            "         0.1478613 , -0.05920896,  0.1734057 , -0.1683701 , -0.05053997],\n",
            "       [ 0.02225745,  0.19815528, -0.19540945,  0.0405671 ,  0.00115713,\n",
            "         0.05168793, -0.15906715, -0.17824246, -0.1024878 ,  0.10416195],\n",
            "       [-0.19413443, -0.13080218, -0.09712757, -0.17004888, -0.05886395,\n",
            "         0.05894765, -0.04060173,  0.02673587,  0.2130233 ,  0.1841717 ],\n",
            "       [-0.10192703,  0.09483066,  0.09497634,  0.22428957,  0.23296937,\n",
            "        -0.08699608, -0.00213242,  0.16514775,  0.22066873, -0.04892077],\n",
            "       [ 0.22155967, -0.06995581,  0.20734552, -0.07392237,  0.04720792,\n",
            "         0.06594929, -0.10679218,  0.01962966, -0.18745637, -0.08638145],\n",
            "       [-0.12435658,  0.09731901, -0.08078384, -0.1465966 ,  0.06315881,\n",
            "         0.23342657, -0.06860289,  0.08138144,  0.22816133,  0.02138674],\n",
            "       [ 0.19195798,  0.04493636,  0.18888652,  0.06214935, -0.00998956,\n",
            "        -0.18586011, -0.23262496, -0.10477346, -0.128174  , -0.0249723 ],\n",
            "       [-0.01619689, -0.06490117,  0.03403381,  0.06001279, -0.16379827,\n",
            "        -0.05875726, -0.09382264,  0.16681373, -0.20975964,  0.07122993],\n",
            "       [ 0.16161507, -0.21550463,  0.01732296, -0.15476707, -0.0214927 ,\n",
            "         0.22713718,  0.03748122, -0.03242764,  0.10825312, -0.00062069],\n",
            "       [ 0.02590716, -0.11542927,  0.14357096, -0.07552959, -0.01430057,\n",
            "         0.06461284, -0.18640435,  0.22829476,  0.2335034 ,  0.13504374],\n",
            "       [-0.06838824, -0.21266994, -0.22092043, -0.21665737, -0.2183015 ,\n",
            "        -0.10744879, -0.16929956, -0.20661841, -0.19600019,  0.12790263],\n",
            "       [ 0.16296777, -0.02099122, -0.01783513,  0.15363821,  0.00090244,\n",
            "        -0.08372818,  0.05334091, -0.23100154, -0.22630349,  0.17486593],\n",
            "       [ 0.16067985, -0.15887004,  0.00566475, -0.07196678, -0.04184629,\n",
            "         0.14048544, -0.19091426,  0.18385115, -0.10394602,  0.16512331],\n",
            "       [ 0.16128069, -0.07134715,  0.15025821, -0.22945495, -0.09995291,\n",
            "         0.05618483,  0.03546891,  0.01718226,  0.04189339,  0.03471169],\n",
            "       [-0.09389898,  0.02125403, -0.04974988,  0.07186717, -0.18012848,\n",
            "        -0.06930777,  0.22988081, -0.12168276, -0.17925794, -0.1397542 ],\n",
            "       [-0.07577336, -0.15739356,  0.2106441 ,  0.15191305,  0.16784495,\n",
            "         0.04257452, -0.09398368, -0.10568577, -0.21261476, -0.1014182 ],\n",
            "       [-0.1769308 ,  0.08004746,  0.15109313,  0.0343653 ,  0.17701194,\n",
            "         0.1398977 ,  0.04445201,  0.09651306,  0.01013517,  0.17145273],\n",
            "       [-0.02460085,  0.02744356,  0.16321301,  0.20845833, -0.14453474,\n",
            "        -0.0647462 , -0.22703443,  0.05439681,  0.08184549,  0.1546624 ],\n",
            "       [ 0.17332646,  0.05735099,  0.21405303,  0.22145274,  0.0347628 ,\n",
            "         0.00163396, -0.1729412 , -0.1369007 ,  0.05203047, -0.08122958],\n",
            "       [-0.17866904,  0.1724714 , -0.14184292,  0.16859093,  0.2072387 ,\n",
            "         0.12072557,  0.2150934 ,  0.08682308,  0.01118413, -0.14605659],\n",
            "       [-0.21015787,  0.02934963,  0.17081746,  0.22976968, -0.19437844,\n",
            "         0.2105256 , -0.1970635 , -0.01812261,  0.06602579, -0.02696301],\n",
            "       [-0.17785886, -0.17799127, -0.12926969, -0.03069942, -0.19304928,\n",
            "         0.18880728, -0.02167895,  0.13104132,  0.21187344,  0.07336748],\n",
            "       [-0.19967173, -0.0215099 ,  0.06245533, -0.04290326,  0.20649147,\n",
            "        -0.13127771, -0.21643487, -0.00943057,  0.16655937,  0.212304  ],\n",
            "       [ 0.21029437,  0.16332102, -0.20531711, -0.11808227, -0.11883432,\n",
            "        -0.11989914, -0.06881866,  0.06103584, -0.06755495, -0.21067077],\n",
            "       [-0.00332581,  0.108239  , -0.03906156,  0.16925669, -0.11949778,\n",
            "         0.11661732,  0.22749883, -0.09405389,  0.00928797,  0.16698638],\n",
            "       [-0.21772537,  0.223584  , -0.07460375,  0.14592046,  0.1767618 ,\n",
            "        -0.2128303 , -0.06994401,  0.11929649, -0.17330703,  0.21132928],\n",
            "       [ 0.00866945, -0.22402997, -0.03397155, -0.20273344, -0.05309451,\n",
            "         0.11046952, -0.15546583, -0.22987336, -0.00124004,  0.19865942],\n",
            "       [-0.01238531,  0.14332697,  0.18825027, -0.0555274 ,  0.05571064,\n",
            "        -0.11446268, -0.13064292,  0.09090495, -0.19134535, -0.20984238],\n",
            "       [-0.14179254,  0.1278083 , -0.20289375,  0.02461132, -0.09028158,\n",
            "        -0.19345343, -0.00794011,  0.19840339, -0.01062313,  0.10050371],\n",
            "       [ 0.06234533, -0.2095065 ,  0.1277413 , -0.07256237,  0.15125015,\n",
            "         0.09316742,  0.20848507,  0.071105  , -0.1542275 ,  0.1920583 ],\n",
            "       [-0.13531888, -0.07878011,  0.16926464, -0.222749  ,  0.18831247,\n",
            "         0.05264226,  0.11294577,  0.13238272, -0.15188505, -0.02417788],\n",
            "       [ 0.07800066, -0.02128573,  0.17657304,  0.05641001,  0.15363872,\n",
            "         0.2061297 ,  0.21003386, -0.08921602, -0.06651607,  0.014394  ],\n",
            "       [-0.19782068,  0.14221025, -0.21732362, -0.18075714,  0.16664249,\n",
            "         0.22143549,  0.00748719,  0.13741955,  0.08853558,  0.22414756],\n",
            "       [ 0.01471318,  0.16481856, -0.22931613,  0.174853  , -0.21698768,\n",
            "         0.1653203 , -0.05270028, -0.22019005,  0.13751644,  0.22508514],\n",
            "       [ 0.11985859,  0.15039048, -0.06753807,  0.1195851 ,  0.02385592,\n",
            "         0.12015489,  0.10471779, -0.19685008,  0.08928084,  0.12733305],\n",
            "       [ 0.1663515 , -0.1935521 , -0.10716142,  0.19437945,  0.17793837,\n",
            "        -0.22837822, -0.10330211,  0.00687525,  0.16104394,  0.17907223],\n",
            "       [ 0.08369294,  0.03252643,  0.22314513,  0.12875572,  0.10701451,\n",
            "        -0.10431029, -0.11220074, -0.03056517,  0.19656348, -0.02726158],\n",
            "       [-0.15364635, -0.10553987, -0.08178441,  0.0499754 , -0.22805893,\n",
            "         0.16020697, -0.06035474, -0.10637601,  0.19249386, -0.11426077],\n",
            "       [-0.14452381, -0.1839016 ,  0.07375765, -0.03589271,  0.2309713 ,\n",
            "        -0.1600303 , -0.10781251,  0.21529135, -0.22042263, -0.10670504],\n",
            "       [ 0.02329135,  0.03416711, -0.09517296,  0.10086554,  0.05879077,\n",
            "         0.13552836,  0.16983733,  0.22695264, -0.04834296,  0.07402444],\n",
            "       [ 0.20857131, -0.05544816,  0.12316722,  0.08332464,  0.14723939,\n",
            "        -0.00416434,  0.11432159,  0.14450878,  0.01641579, -0.02954812],\n",
            "       [ 0.07892114, -0.13027626, -0.05189756, -0.23005137,  0.2284598 ,\n",
            "        -0.19319445, -0.1923121 ,  0.04453805,  0.06898934,  0.02867195],\n",
            "       [-0.00039396, -0.20444712, -0.14015535,  0.1027686 , -0.09954153,\n",
            "         0.05130681, -0.17039967,  0.15937153,  0.23207325,  0.15483901],\n",
            "       [-0.22823144, -0.03732555,  0.00583799,  0.0744015 , -0.18014914,\n",
            "         0.15334865,  0.02154091, -0.0908042 ,  0.05518034,  0.01907775],\n",
            "       [ 0.1729593 ,  0.09889355,  0.2095468 ,  0.00359164,  0.15122336,\n",
            "        -0.00374487,  0.07545507,  0.09602588,  0.01049884, -0.0554211 ],\n",
            "       [ 0.23281273,  0.10045946, -0.17294705,  0.22489476, -0.19912994,\n",
            "        -0.21589981, -0.0067773 , -0.05133322,  0.11126193,  0.18211728],\n",
            "       [ 0.22934794,  0.03700569, -0.02633674,  0.20106947, -0.17577527,\n",
            "         0.07706225, -0.09304933, -0.07306072,  0.13823351,  0.10621548],\n",
            "       [-0.13124457, -0.04279357,  0.14370811, -0.1110779 ,  0.09335047,\n",
            "         0.07048151,  0.09708175,  0.01190248,  0.1494903 ,  0.15895045],\n",
            "       [ 0.02548018,  0.20479581,  0.0015424 ,  0.15670845,  0.06445298,\n",
            "        -0.18733932, -0.13055044, -0.22247754, -0.13940808,  0.03977174],\n",
            "       [ 0.11339203, -0.21244115,  0.07959619, -0.23335274,  0.07957625,\n",
            "        -0.12571174,  0.03097171, -0.16531152, -0.01851378, -0.15411124],\n",
            "       [-0.23140378,  0.22518238,  0.06865901,  0.1811128 ,  0.01540387,\n",
            "         0.12602639, -0.09396943, -0.06790191,  0.15742892,  0.0334442 ],\n",
            "       [ 0.09892714, -0.16004911, -0.06090188, -0.21304262, -0.07392403,\n",
            "        -0.15806115, -0.18301935,  0.12755826, -0.04794382, -0.06774582],\n",
            "       [-0.23197137, -0.00395152,  0.00701985,  0.01112761, -0.04967076,\n",
            "        -0.16607893, -0.22037664,  0.18663228,  0.10717043,  0.00986601],\n",
            "       [ 0.21158707, -0.09266518,  0.05721843,  0.02199358,  0.07241705,\n",
            "         0.11019111,  0.0531283 ,  0.06388417, -0.11502346, -0.1762331 ],\n",
            "       [ 0.05185375, -0.03852189, -0.01733805, -0.07044487,  0.0386804 ,\n",
            "         0.18166709, -0.04224615,  0.01387894,  0.20725107, -0.07041313],\n",
            "       [-0.04237495, -0.09813192, -0.01735504,  0.10395995,  0.01755127,\n",
            "         0.01896459, -0.18492487,  0.22639006,  0.10271946,  0.13415483],\n",
            "       [ 0.09602466, -0.21882197,  0.00755106, -0.17739457, -0.232906  ,\n",
            "        -0.2043047 ,  0.00166503,  0.07094485,  0.11203352, -0.18813647],\n",
            "       [ 0.18763766, -0.221586  ,  0.00345945, -0.20005244, -0.23051143,\n",
            "         0.06125328, -0.17122589,  0.21097201, -0.14340042,  0.05628851],\n",
            "       [-0.13148046,  0.12131393,  0.12000227,  0.0382624 , -0.03929876,\n",
            "         0.04065001, -0.12104169, -0.08083552,  0.20689353,  0.12417105],\n",
            "       [-0.04909094, -0.1207679 ,  0.1931802 , -0.21516347, -0.01762314,\n",
            "         0.07922813, -0.15543047,  0.21575174,  0.03621462,  0.22737554],\n",
            "       [ 0.13195291,  0.03265956, -0.04311396, -0.14348339,  0.0582839 ,\n",
            "        -0.009305  ,  0.07877487, -0.17877762, -0.07237022, -0.23174183],\n",
            "       [-0.16160572, -0.13993523,  0.22504947, -0.00993477,  0.14934185,\n",
            "        -0.14405435, -0.01185137,  0.1825735 ,  0.04565689,  0.0301705 ],\n",
            "       [-0.00477189,  0.133742  , -0.18007982, -0.1990973 ,  0.10679662,\n",
            "        -0.06349535,  0.09298307,  0.08524281, -0.03100869,  0.09334505],\n",
            "       [ 0.07164833, -0.0058357 , -0.08587217, -0.19992603,  0.21525326,\n",
            "         0.21928275, -0.18912484, -0.21958221,  0.03958541,  0.01021998],\n",
            "       [-0.08555941,  0.04665667, -0.18061593, -0.04677053,  0.17561737,\n",
            "         0.12325329, -0.21533263,  0.04709417, -0.20874727, -0.01517563],\n",
            "       [ 0.01088539, -0.12167797, -0.14926541, -0.22964884,  0.11201477,\n",
            "        -0.06709149, -0.00057554, -0.07915078,  0.20017138,  0.19264731],\n",
            "       [-0.19216327,  0.15278926, -0.20099531, -0.19732939,  0.14518142,\n",
            "        -0.05379923, -0.005236  ,  0.23073566, -0.05125883,  0.03851181],\n",
            "       [-0.18567118,  0.21107718, -0.17401259,  0.07414666, -0.16064793,\n",
            "         0.23079368, -0.08063668,  0.0617986 ,  0.07905906,  0.01600434],\n",
            "       [ 0.03414825,  0.07000381, -0.05976556, -0.01690094, -0.10730012,\n",
            "        -0.15275648, -0.09742041,  0.02266207, -0.03863041,  0.20169255],\n",
            "       [-0.1758697 ,  0.22434747,  0.05232093,  0.19626486,  0.14919847,\n",
            "         0.13165212,  0.06866202, -0.22077087, -0.02480459, -0.11038426],\n",
            "       [ 0.22189826,  0.04117188, -0.00165299,  0.13558987,  0.02200213,\n",
            "        -0.15707545, -0.06988002, -0.08552088,  0.1480605 , -0.06704661]],\n",
            "      dtype=float32), array([0., 0., 0., 0., 0., 0., 0., 0., 0., 0.], dtype=float32)]\n"
          ],
          "name": "stdout"
        }
      ]
    },
    {
      "cell_type": "code",
      "metadata": {
        "id": "bXMzaOD8aJdR"
      },
      "source": [
        "model.compile(loss=\"sparse_categorical_crossentropy\", # because for each instance there's just a class and the classes are exclusive\n",
        "optimizer=\"sgd\",\n",
        "metrics=[\"accuracy\"])"
      ],
      "execution_count": 110,
      "outputs": []
    },
    {
      "cell_type": "code",
      "metadata": {
        "colab": {
          "base_uri": "https://localhost:8080/"
        },
        "id": "MOTIQBc9gClO",
        "outputId": "4aa41161-9a30-4b74-b2b5-c661d84f0c5e"
      },
      "source": [
        "history = model.fit(X_train, y_train, epochs=100, validation_data=(X_valid, y_valid))"
      ],
      "execution_count": 115,
      "outputs": [
        {
          "output_type": "stream",
          "text": [
            "Epoch 1/100\n",
            "1719/1719 [==============================] - 6s 4ms/step - loss: 0.2224 - accuracy: 0.9206 - val_loss: 0.2971 - val_accuracy: 0.8934\n",
            "Epoch 2/100\n",
            "1719/1719 [==============================] - 6s 4ms/step - loss: 0.2190 - accuracy: 0.9210 - val_loss: 0.3076 - val_accuracy: 0.8916\n",
            "Epoch 3/100\n",
            "1719/1719 [==============================] - 6s 4ms/step - loss: 0.2149 - accuracy: 0.9235 - val_loss: 0.2936 - val_accuracy: 0.8932\n",
            "Epoch 4/100\n",
            "1719/1719 [==============================] - 6s 4ms/step - loss: 0.2115 - accuracy: 0.9239 - val_loss: 0.3079 - val_accuracy: 0.8922\n",
            "Epoch 5/100\n",
            "1719/1719 [==============================] - 6s 4ms/step - loss: 0.2084 - accuracy: 0.9252 - val_loss: 0.2947 - val_accuracy: 0.8968\n",
            "Epoch 6/100\n",
            "1719/1719 [==============================] - 6s 4ms/step - loss: 0.2046 - accuracy: 0.9264 - val_loss: 0.2994 - val_accuracy: 0.8944\n",
            "Epoch 7/100\n",
            "1719/1719 [==============================] - 6s 4ms/step - loss: 0.2012 - accuracy: 0.9274 - val_loss: 0.3237 - val_accuracy: 0.8906\n",
            "Epoch 8/100\n",
            "1719/1719 [==============================] - 6s 4ms/step - loss: 0.1984 - accuracy: 0.9284 - val_loss: 0.3040 - val_accuracy: 0.8876\n",
            "Epoch 9/100\n",
            "1719/1719 [==============================] - 6s 4ms/step - loss: 0.1948 - accuracy: 0.9297 - val_loss: 0.3299 - val_accuracy: 0.8834\n",
            "Epoch 10/100\n",
            "1719/1719 [==============================] - 6s 4ms/step - loss: 0.1924 - accuracy: 0.9312 - val_loss: 0.3090 - val_accuracy: 0.8872\n",
            "Epoch 11/100\n",
            "1719/1719 [==============================] - 6s 4ms/step - loss: 0.1897 - accuracy: 0.9323 - val_loss: 0.3097 - val_accuracy: 0.8892\n",
            "Epoch 12/100\n",
            "1719/1719 [==============================] - 6s 4ms/step - loss: 0.1860 - accuracy: 0.9325 - val_loss: 0.2954 - val_accuracy: 0.8970\n",
            "Epoch 13/100\n",
            "1719/1719 [==============================] - 6s 4ms/step - loss: 0.1832 - accuracy: 0.9343 - val_loss: 0.3062 - val_accuracy: 0.8928\n",
            "Epoch 14/100\n",
            "1719/1719 [==============================] - 6s 4ms/step - loss: 0.1805 - accuracy: 0.9353 - val_loss: 0.2937 - val_accuracy: 0.8932\n",
            "Epoch 15/100\n",
            "1719/1719 [==============================] - 6s 4ms/step - loss: 0.1776 - accuracy: 0.9363 - val_loss: 0.3130 - val_accuracy: 0.8938\n",
            "Epoch 16/100\n",
            "1719/1719 [==============================] - 6s 4ms/step - loss: 0.1746 - accuracy: 0.9379 - val_loss: 0.3007 - val_accuracy: 0.8938\n",
            "Epoch 17/100\n",
            "1719/1719 [==============================] - 6s 4ms/step - loss: 0.1714 - accuracy: 0.9396 - val_loss: 0.2985 - val_accuracy: 0.8960\n",
            "Epoch 18/100\n",
            "1719/1719 [==============================] - 6s 4ms/step - loss: 0.1690 - accuracy: 0.9407 - val_loss: 0.3213 - val_accuracy: 0.8902\n",
            "Epoch 19/100\n",
            "1719/1719 [==============================] - 6s 4ms/step - loss: 0.1676 - accuracy: 0.9402 - val_loss: 0.3307 - val_accuracy: 0.8892\n",
            "Epoch 20/100\n",
            "1719/1719 [==============================] - 6s 4ms/step - loss: 0.1647 - accuracy: 0.9409 - val_loss: 0.3434 - val_accuracy: 0.8840\n",
            "Epoch 21/100\n",
            "1719/1719 [==============================] - 6s 4ms/step - loss: 0.1612 - accuracy: 0.9435 - val_loss: 0.2898 - val_accuracy: 0.8988\n",
            "Epoch 22/100\n",
            "1719/1719 [==============================] - 6s 4ms/step - loss: 0.1576 - accuracy: 0.9451 - val_loss: 0.3091 - val_accuracy: 0.8906\n",
            "Epoch 23/100\n",
            "1719/1719 [==============================] - 6s 4ms/step - loss: 0.1562 - accuracy: 0.9445 - val_loss: 0.3385 - val_accuracy: 0.8870\n",
            "Epoch 24/100\n",
            "1719/1719 [==============================] - 6s 4ms/step - loss: 0.1549 - accuracy: 0.9459 - val_loss: 0.3029 - val_accuracy: 0.8978\n",
            "Epoch 25/100\n",
            "1719/1719 [==============================] - 6s 4ms/step - loss: 0.1517 - accuracy: 0.9463 - val_loss: 0.3085 - val_accuracy: 0.8928\n",
            "Epoch 26/100\n",
            "1719/1719 [==============================] - 6s 4ms/step - loss: 0.1489 - accuracy: 0.9470 - val_loss: 0.3077 - val_accuracy: 0.8922\n",
            "Epoch 27/100\n",
            "1719/1719 [==============================] - 6s 4ms/step - loss: 0.1481 - accuracy: 0.9473 - val_loss: 0.3248 - val_accuracy: 0.8938\n",
            "Epoch 28/100\n",
            "1719/1719 [==============================] - 6s 4ms/step - loss: 0.1449 - accuracy: 0.9492 - val_loss: 0.3199 - val_accuracy: 0.8956\n",
            "Epoch 29/100\n",
            "1719/1719 [==============================] - 6s 4ms/step - loss: 0.1431 - accuracy: 0.9500 - val_loss: 0.3052 - val_accuracy: 0.8936\n",
            "Epoch 30/100\n",
            "1719/1719 [==============================] - 6s 4ms/step - loss: 0.1398 - accuracy: 0.9502 - val_loss: 0.2989 - val_accuracy: 0.9026\n",
            "Epoch 31/100\n",
            "1719/1719 [==============================] - 6s 4ms/step - loss: 0.1374 - accuracy: 0.9512 - val_loss: 0.2955 - val_accuracy: 0.8992\n",
            "Epoch 32/100\n",
            "1719/1719 [==============================] - 6s 4ms/step - loss: 0.1363 - accuracy: 0.9524 - val_loss: 0.3240 - val_accuracy: 0.8956\n",
            "Epoch 33/100\n",
            "1719/1719 [==============================] - 6s 4ms/step - loss: 0.1327 - accuracy: 0.9531 - val_loss: 0.3099 - val_accuracy: 0.8972\n",
            "Epoch 34/100\n",
            "1719/1719 [==============================] - 6s 4ms/step - loss: 0.1332 - accuracy: 0.9529 - val_loss: 0.3164 - val_accuracy: 0.8926\n",
            "Epoch 35/100\n",
            "1719/1719 [==============================] - 6s 4ms/step - loss: 0.1294 - accuracy: 0.9545 - val_loss: 0.3011 - val_accuracy: 0.9024\n",
            "Epoch 36/100\n",
            "1719/1719 [==============================] - 7s 4ms/step - loss: 0.1271 - accuracy: 0.9547 - val_loss: 0.3169 - val_accuracy: 0.8956\n",
            "Epoch 37/100\n",
            "1719/1719 [==============================] - 6s 4ms/step - loss: 0.1242 - accuracy: 0.9567 - val_loss: 0.3230 - val_accuracy: 0.8970\n",
            "Epoch 38/100\n",
            "1719/1719 [==============================] - 6s 4ms/step - loss: 0.1229 - accuracy: 0.9565 - val_loss: 0.3106 - val_accuracy: 0.8968\n",
            "Epoch 39/100\n",
            "1719/1719 [==============================] - 6s 4ms/step - loss: 0.1213 - accuracy: 0.9579 - val_loss: 0.3191 - val_accuracy: 0.8970\n",
            "Epoch 40/100\n",
            "1719/1719 [==============================] - 6s 4ms/step - loss: 0.1205 - accuracy: 0.9584 - val_loss: 0.3332 - val_accuracy: 0.8900\n",
            "Epoch 41/100\n",
            "1719/1719 [==============================] - 6s 4ms/step - loss: 0.1184 - accuracy: 0.9586 - val_loss: 0.3321 - val_accuracy: 0.8994\n",
            "Epoch 42/100\n",
            "1719/1719 [==============================] - 6s 4ms/step - loss: 0.1159 - accuracy: 0.9598 - val_loss: 0.3184 - val_accuracy: 0.8936\n",
            "Epoch 43/100\n",
            "1719/1719 [==============================] - 6s 4ms/step - loss: 0.1148 - accuracy: 0.9601 - val_loss: 0.3310 - val_accuracy: 0.8948\n",
            "Epoch 44/100\n",
            "1719/1719 [==============================] - 6s 4ms/step - loss: 0.1119 - accuracy: 0.9613 - val_loss: 0.3516 - val_accuracy: 0.8884\n",
            "Epoch 45/100\n",
            "1719/1719 [==============================] - 6s 4ms/step - loss: 0.1113 - accuracy: 0.9612 - val_loss: 0.3362 - val_accuracy: 0.8956\n",
            "Epoch 46/100\n",
            "1719/1719 [==============================] - 6s 4ms/step - loss: 0.1079 - accuracy: 0.9635 - val_loss: 0.3251 - val_accuracy: 0.8986\n",
            "Epoch 47/100\n",
            "1719/1719 [==============================] - 6s 4ms/step - loss: 0.1069 - accuracy: 0.9631 - val_loss: 0.3470 - val_accuracy: 0.8928\n",
            "Epoch 48/100\n",
            "1719/1719 [==============================] - 6s 4ms/step - loss: 0.1054 - accuracy: 0.9637 - val_loss: 0.3333 - val_accuracy: 0.8980\n",
            "Epoch 49/100\n",
            "1719/1719 [==============================] - 6s 4ms/step - loss: 0.1039 - accuracy: 0.9635 - val_loss: 0.3595 - val_accuracy: 0.8932\n",
            "Epoch 50/100\n",
            "1719/1719 [==============================] - 6s 4ms/step - loss: 0.1018 - accuracy: 0.9661 - val_loss: 0.3355 - val_accuracy: 0.9010\n",
            "Epoch 51/100\n",
            "1719/1719 [==============================] - 6s 4ms/step - loss: 0.1010 - accuracy: 0.9650 - val_loss: 0.3515 - val_accuracy: 0.8994\n",
            "Epoch 52/100\n",
            "1719/1719 [==============================] - 6s 4ms/step - loss: 0.1001 - accuracy: 0.9654 - val_loss: 0.3362 - val_accuracy: 0.8972\n",
            "Epoch 53/100\n",
            "1719/1719 [==============================] - 6s 4ms/step - loss: 0.0963 - accuracy: 0.9669 - val_loss: 0.3489 - val_accuracy: 0.8918\n",
            "Epoch 54/100\n",
            "1719/1719 [==============================] - 7s 4ms/step - loss: 0.0968 - accuracy: 0.9668 - val_loss: 0.3540 - val_accuracy: 0.8928\n",
            "Epoch 55/100\n",
            "1719/1719 [==============================] - 7s 4ms/step - loss: 0.0942 - accuracy: 0.9680 - val_loss: 0.3604 - val_accuracy: 0.8922\n",
            "Epoch 56/100\n",
            "1719/1719 [==============================] - 7s 4ms/step - loss: 0.0924 - accuracy: 0.9686 - val_loss: 0.3334 - val_accuracy: 0.8948\n",
            "Epoch 57/100\n",
            "1719/1719 [==============================] - 7s 4ms/step - loss: 0.0923 - accuracy: 0.9681 - val_loss: 0.3477 - val_accuracy: 0.8954\n",
            "Epoch 58/100\n",
            "1719/1719 [==============================] - 7s 4ms/step - loss: 0.0896 - accuracy: 0.9698 - val_loss: 0.3421 - val_accuracy: 0.9016\n",
            "Epoch 59/100\n",
            "1719/1719 [==============================] - 7s 4ms/step - loss: 0.0892 - accuracy: 0.9689 - val_loss: 0.3665 - val_accuracy: 0.8870\n",
            "Epoch 60/100\n",
            "1719/1719 [==============================] - 7s 4ms/step - loss: 0.0871 - accuracy: 0.9711 - val_loss: 0.3547 - val_accuracy: 0.8978\n",
            "Epoch 61/100\n",
            "1719/1719 [==============================] - 6s 4ms/step - loss: 0.0844 - accuracy: 0.9720 - val_loss: 0.3551 - val_accuracy: 0.8980\n",
            "Epoch 62/100\n",
            "1719/1719 [==============================] - 7s 4ms/step - loss: 0.0837 - accuracy: 0.9719 - val_loss: 0.3453 - val_accuracy: 0.8988\n",
            "Epoch 63/100\n",
            "1719/1719 [==============================] - 7s 4ms/step - loss: 0.0829 - accuracy: 0.9721 - val_loss: 0.3698 - val_accuracy: 0.8948\n",
            "Epoch 64/100\n",
            "1719/1719 [==============================] - 7s 4ms/step - loss: 0.0811 - accuracy: 0.9723 - val_loss: 0.3494 - val_accuracy: 0.9018\n",
            "Epoch 65/100\n",
            "1719/1719 [==============================] - 7s 4ms/step - loss: 0.0798 - accuracy: 0.9722 - val_loss: 0.3654 - val_accuracy: 0.8994\n",
            "Epoch 66/100\n",
            "1719/1719 [==============================] - 7s 4ms/step - loss: 0.0796 - accuracy: 0.9728 - val_loss: 0.3779 - val_accuracy: 0.8944\n",
            "Epoch 67/100\n",
            "1719/1719 [==============================] - 7s 4ms/step - loss: 0.0781 - accuracy: 0.9738 - val_loss: 0.3596 - val_accuracy: 0.8956\n",
            "Epoch 68/100\n",
            "1719/1719 [==============================] - 7s 4ms/step - loss: 0.0758 - accuracy: 0.9753 - val_loss: 0.3680 - val_accuracy: 0.8976\n",
            "Epoch 69/100\n",
            "1719/1719 [==============================] - 7s 4ms/step - loss: 0.0759 - accuracy: 0.9742 - val_loss: 0.3753 - val_accuracy: 0.8978\n",
            "Epoch 70/100\n",
            "1719/1719 [==============================] - 7s 4ms/step - loss: 0.0731 - accuracy: 0.9754 - val_loss: 0.3848 - val_accuracy: 0.8960\n",
            "Epoch 71/100\n",
            "1719/1719 [==============================] - 7s 4ms/step - loss: 0.0736 - accuracy: 0.9754 - val_loss: 0.3772 - val_accuracy: 0.8926\n",
            "Epoch 72/100\n",
            "1719/1719 [==============================] - 7s 4ms/step - loss: 0.0702 - accuracy: 0.9766 - val_loss: 0.4188 - val_accuracy: 0.8910\n",
            "Epoch 73/100\n",
            "1719/1719 [==============================] - 7s 4ms/step - loss: 0.0692 - accuracy: 0.9767 - val_loss: 0.3851 - val_accuracy: 0.8940\n",
            "Epoch 74/100\n",
            "1719/1719 [==============================] - 7s 4ms/step - loss: 0.0681 - accuracy: 0.9770 - val_loss: 0.3691 - val_accuracy: 0.8972\n",
            "Epoch 75/100\n",
            "1719/1719 [==============================] - 7s 4ms/step - loss: 0.0674 - accuracy: 0.9773 - val_loss: 0.3734 - val_accuracy: 0.8990\n",
            "Epoch 76/100\n",
            "1719/1719 [==============================] - 7s 4ms/step - loss: 0.0660 - accuracy: 0.9783 - val_loss: 0.3811 - val_accuracy: 0.8932\n",
            "Epoch 77/100\n",
            "1719/1719 [==============================] - 7s 4ms/step - loss: 0.0654 - accuracy: 0.9777 - val_loss: 0.4192 - val_accuracy: 0.8962\n",
            "Epoch 78/100\n",
            "1719/1719 [==============================] - 7s 4ms/step - loss: 0.0649 - accuracy: 0.9786 - val_loss: 0.3799 - val_accuracy: 0.9020\n",
            "Epoch 79/100\n",
            "1719/1719 [==============================] - 7s 4ms/step - loss: 0.0633 - accuracy: 0.9788 - val_loss: 0.3744 - val_accuracy: 0.8988\n",
            "Epoch 80/100\n",
            "1719/1719 [==============================] - 7s 4ms/step - loss: 0.0633 - accuracy: 0.9787 - val_loss: 0.3994 - val_accuracy: 0.8892\n",
            "Epoch 81/100\n",
            "1719/1719 [==============================] - 7s 4ms/step - loss: 0.0607 - accuracy: 0.9804 - val_loss: 0.3823 - val_accuracy: 0.9034\n",
            "Epoch 82/100\n",
            "1719/1719 [==============================] - 7s 4ms/step - loss: 0.0602 - accuracy: 0.9799 - val_loss: 0.3900 - val_accuracy: 0.8972\n",
            "Epoch 83/100\n",
            "1719/1719 [==============================] - 7s 4ms/step - loss: 0.0590 - accuracy: 0.9807 - val_loss: 0.4000 - val_accuracy: 0.8992\n",
            "Epoch 84/100\n",
            "1719/1719 [==============================] - 7s 4ms/step - loss: 0.0584 - accuracy: 0.9806 - val_loss: 0.4051 - val_accuracy: 0.8968\n",
            "Epoch 85/100\n",
            "1719/1719 [==============================] - 7s 4ms/step - loss: 0.0579 - accuracy: 0.9809 - val_loss: 0.3956 - val_accuracy: 0.9000\n",
            "Epoch 86/100\n",
            "1719/1719 [==============================] - 7s 4ms/step - loss: 0.0556 - accuracy: 0.9820 - val_loss: 0.4174 - val_accuracy: 0.8930\n",
            "Epoch 87/100\n",
            "1719/1719 [==============================] - 7s 4ms/step - loss: 0.0528 - accuracy: 0.9827 - val_loss: 0.4273 - val_accuracy: 0.8916\n",
            "Epoch 88/100\n",
            "1719/1719 [==============================] - 7s 4ms/step - loss: 0.0542 - accuracy: 0.9824 - val_loss: 0.4218 - val_accuracy: 0.8980\n",
            "Epoch 89/100\n",
            "1719/1719 [==============================] - 7s 4ms/step - loss: 0.0539 - accuracy: 0.9821 - val_loss: 0.4259 - val_accuracy: 0.8920\n",
            "Epoch 90/100\n",
            "1719/1719 [==============================] - 7s 4ms/step - loss: 0.0528 - accuracy: 0.9829 - val_loss: 0.4131 - val_accuracy: 0.8986\n",
            "Epoch 91/100\n",
            "1719/1719 [==============================] - 7s 4ms/step - loss: 0.0500 - accuracy: 0.9837 - val_loss: 0.4105 - val_accuracy: 0.8996\n",
            "Epoch 92/100\n",
            "1719/1719 [==============================] - 7s 4ms/step - loss: 0.0491 - accuracy: 0.9843 - val_loss: 0.4146 - val_accuracy: 0.8998\n",
            "Epoch 93/100\n",
            "1719/1719 [==============================] - 7s 4ms/step - loss: 0.0491 - accuracy: 0.9844 - val_loss: 0.4346 - val_accuracy: 0.8996\n",
            "Epoch 94/100\n",
            "1719/1719 [==============================] - 7s 4ms/step - loss: 0.0462 - accuracy: 0.9852 - val_loss: 0.5052 - val_accuracy: 0.8776\n",
            "Epoch 95/100\n",
            "1719/1719 [==============================] - 7s 4ms/step - loss: 0.0470 - accuracy: 0.9850 - val_loss: 0.4338 - val_accuracy: 0.8938\n",
            "Epoch 96/100\n",
            "1719/1719 [==============================] - 7s 4ms/step - loss: 0.0457 - accuracy: 0.9859 - val_loss: 0.4368 - val_accuracy: 0.8956\n",
            "Epoch 97/100\n",
            "1719/1719 [==============================] - 7s 4ms/step - loss: 0.0451 - accuracy: 0.9859 - val_loss: 0.4294 - val_accuracy: 0.8994\n",
            "Epoch 98/100\n",
            "1719/1719 [==============================] - 7s 4ms/step - loss: 0.0450 - accuracy: 0.9852 - val_loss: 0.4730 - val_accuracy: 0.8950\n",
            "Epoch 99/100\n",
            "1719/1719 [==============================] - 7s 4ms/step - loss: 0.0418 - accuracy: 0.9865 - val_loss: 0.4576 - val_accuracy: 0.8962\n",
            "Epoch 100/100\n",
            "1719/1719 [==============================] - 7s 4ms/step - loss: 0.0436 - accuracy: 0.9863 - val_loss: 0.4148 - val_accuracy: 0.8992\n"
          ],
          "name": "stdout"
        }
      ]
    },
    {
      "cell_type": "code",
      "metadata": {
        "colab": {
          "base_uri": "https://localhost:8080/",
          "height": 324
        },
        "id": "YH1rMyd7jVi4",
        "outputId": "2e8a3bd5-0d1a-4711-cbe2-fee12403a024"
      },
      "source": [
        "pd.DataFrame(history.history).plot(figsize=(8, 5))\n",
        "plt.grid(True)\n",
        "plt.gca().set_ylim(0, 1) # set the vertical range to [0-1]\n",
        "plt.show()"
      ],
      "execution_count": 116,
      "outputs": [
        {
          "output_type": "display_data",
          "data": {
            "image/png": "[encoded data removed]",
            "text/plain": [
              "<Figure size 576x360 with 1 Axes>"
            ]
          },
          "metadata": {
            "tags": [],
            "needs_background": "light"
          }
        }
      ]
    },
    {
      "cell_type": "code",
      "metadata": {
        "colab": {
          "base_uri": "https://localhost:8080/"
        },
        "id": "LTdTkK1arKdU",
        "outputId": "b57a8e97-5b82-44f9-d57f-2e4279b58b2c"
      },
      "source": [
        "model.evaluate(X_test, y_test)"
      ],
      "execution_count": 117,
      "outputs": [
        {
          "output_type": "stream",
          "text": [
            "313/313 [==============================] - 1s 3ms/step - loss: 132.8674 - accuracy: 0.8410\n"
          ],
          "name": "stdout"
        },
        {
          "output_type": "execute_result",
          "data": {
            "text/plain": [
              "[132.8673858642578, 0.8410000205039978]"
            ]
          },
          "metadata": {
            "tags": []
          },
          "execution_count": 117
        }
      ]
    },
    {
      "cell_type": "code",
      "metadata": {
        "id": "q5JTn9QRrnuE"
      },
      "source": [
        ""
      ],
      "execution_count": null,
      "outputs": []
    }
  ]
}